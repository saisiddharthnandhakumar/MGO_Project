{
 "cells": [
  {
   "cell_type": "code",
   "execution_count": 1,
   "id": "112b4220-1047-437f-95c1-c1f00511271e",
   "metadata": {},
   "outputs": [],
   "source": [
    "import pandas as pd"
   ]
  },
  {
   "cell_type": "code",
   "execution_count": 2,
   "id": "d7ee18f6-34a8-4152-a858-107ca81af739",
   "metadata": {},
   "outputs": [],
   "source": [
    "#csv_list = ['JIRA 1001-2000.csv','JIRA 2001-3000.csv','JIRA 3001-4000.csv','JIRA 4001-5000.csv',\n",
    "#            'JIRA 5001-6000.csv','JIRA 6001-7000.csv','JIRA 7001-8000.csv','JIRA 8001-9000.csv','JIRA 9001-10000.csv',\n",
    "#            'JIRA 10001-11000.csv','JIRA 11001-12000.csv']"
   ]
  },
  {
   "cell_type": "code",
   "execution_count": 3,
   "id": "2554492e-06be-472c-86ce-189975ce9dfb",
   "metadata": {},
   "outputs": [],
   "source": [
    "#data_all = pd.concat((pd.read_csv(i) for i in csv_list)).reset_index(drop = True) # Import\n",
    "#print(data_all) "
   ]
  },
  {
   "cell_type": "code",
   "execution_count": 4,
   "id": "d7c093ce-4524-4e06-b76a-bdaffadb5e58",
   "metadata": {},
   "outputs": [
    {
     "name": "stderr",
     "output_type": "stream",
     "text": [
      "/opt/conda/lib/python3.8/site-packages/IPython/core/interactiveshell.py:3369: DtypeWarning: Columns (1) have mixed types.Specify dtype option on import or set low_memory=False.\n",
      "  exec(code_obj, self.user_global_ns, self.user_ns)\n"
     ]
    }
   ],
   "source": [
    "d = pd.read_csv('cLean_file.csv')"
   ]
  },
  {
   "cell_type": "code",
   "execution_count": 5,
   "id": "13c93dfe-f0af-448a-b5ea-9e67dbdfc3f9",
   "metadata": {},
   "outputs": [
    {
     "name": "stdout",
     "output_type": "stream",
     "text": [
      "    Unnamed: 0 Unnamed: 0.1  \\\n",
      "7            7            8   \n",
      "11          11           12   \n",
      "14          14           15   \n",
      "16          16           17   \n",
      "17          17           18   \n",
      "\n",
      "                                              Summary   Issue key  Issue id  \\\n",
      "7        MyGovernmentOnline.org - New Contact Request  MWS-123765  184515.0   \n",
      "11  custom report valuation and fee report -please...  MWS-123761  184511.0   \n",
      "14       MyGovernmentOnline.org - New Contact Request  MWS-123758  184508.0   \n",
      "16       MyGovernmentOnline.org - New Contact Request  MWS-123756  184506.0   \n",
      "17                 Please remove user: Shannon Haynes  MWS-123755  184505.0   \n",
      "\n",
      "                 Issue Type  Status Project key         Project name  \\\n",
      "7     Customer Portal (Web)  Closed         MWS  MGO Website Support   \n",
      "11         Reports/ Letters  Closed         MWS  MGO Website Support   \n",
      "14    Customer Portal (Web)  Closed         MWS  MGO Website Support   \n",
      "16    Customer Portal (Web)  Closed         MWS  MGO Website Support   \n",
      "17  Account Edit / Creation  Closed         MWS  MGO Website Support   \n",
      "\n",
      "   Project type  ...             Resolved Due date  \\\n",
      "7      software  ...  2022-10-25 16:32:00      NaN   \n",
      "11     software  ...  2022-10-25 16:32:00      NaN   \n",
      "14     software  ...  2022-10-25 16:09:00      NaN   \n",
      "16     software  ...  2022-10-25 16:03:00      NaN   \n",
      "17     software  ...  2022-10-25 16:25:00      NaN   \n",
      "\n",
      "                                          Description  Unnamed: 27  \\\n",
      "7   MyGovernmentOnline.org\\n\\nNew Contact Request\\...          NaN   \n",
      "11  The following permit types should not be displ...          NaN   \n",
      "14  MyGovernmentOnline.org\\n\\nNew Contact Request\\...          NaN   \n",
      "16  MyGovernmentOnline.org\\n\\nNew Contact Request\\...          NaN   \n",
      "17  Good Afternoon,\\r\\n\\r\\nPlease remove the user ...          NaN   \n",
      "\n",
      "   created_Time created_Date last_Time   last_Date         duration  \\\n",
      "7      16:18:00   2022-10-25  16:32:00  2022-10-25  0 days 00:14:00   \n",
      "11     16:04:00   2022-10-25  16:32:00  2022-10-25  0 days 00:28:00   \n",
      "14     15:54:00   2022-10-25  16:09:00  2022-10-25  0 days 00:15:00   \n",
      "16     15:34:00   2022-10-25  16:03:00  2022-10-25  0 days 00:29:00   \n",
      "17     15:28:00   2022-10-25  16:25:00  2022-10-25  0 days 00:57:00   \n",
      "\n",
      "   day_of_week  \n",
      "7      Tuesday  \n",
      "11     Tuesday  \n",
      "14     Tuesday  \n",
      "16     Tuesday  \n",
      "17     Tuesday  \n",
      "\n",
      "[5 rows x 35 columns]\n"
     ]
    }
   ],
   "source": [
    "data_all = d.loc[d['Status'] == \"Closed\"]\n",
    "print(data_all.head())"
   ]
  },
  {
   "cell_type": "code",
   "execution_count": 32,
   "id": "3f87bc0e-251f-4052-b7b3-0d15ed3d9db6",
   "metadata": {},
   "outputs": [
    {
     "name": "stdout",
     "output_type": "stream",
     "text": [
      "7        184515.0\n",
      "11       184511.0\n",
      "14       184508.0\n",
      "16       184506.0\n",
      "17       184505.0\n",
      "           ...   \n",
      "93962     10618.0\n",
      "93963     10615.0\n",
      "93964     10610.0\n",
      "93965     10609.0\n",
      "93966     10608.0\n",
      "Name: Issue id, Length: 93251, dtype: float64\n"
     ]
    }
   ],
   "source": [
    "print(data_all['Issue id'])"
   ]
  },
  {
   "cell_type": "code",
   "execution_count": 6,
   "id": "0c6981fe-22ae-4b4b-990a-21da9e3828a8",
   "metadata": {},
   "outputs": [],
   "source": [
    "from datetime import datetime, timedelta"
   ]
  },
  {
   "cell_type": "code",
   "execution_count": 7,
   "id": "8a01db88-47ee-4fec-921c-1a2f3dcfff33",
   "metadata": {},
   "outputs": [
    {
     "data": {
      "text/plain": [
       "count                   93251\n",
       "unique                  80955\n",
       "top       2019-12-11 12:45:00\n",
       "freq                       76\n",
       "Name: Created, dtype: object"
      ]
     },
     "execution_count": 7,
     "metadata": {},
     "output_type": "execute_result"
    }
   ],
   "source": [
    "data_all['Created'].describe()"
   ]
  },
  {
   "cell_type": "code",
   "execution_count": 8,
   "id": "27fd8fb6-b177-437f-b6ce-f9b226ae8ae2",
   "metadata": {},
   "outputs": [
    {
     "name": "stderr",
     "output_type": "stream",
     "text": [
      "/tmp/ipykernel_288/422160212.py:1: SettingWithCopyWarning: \n",
      "A value is trying to be set on a copy of a slice from a DataFrame.\n",
      "Try using .loc[row_indexer,col_indexer] = value instead\n",
      "\n",
      "See the caveats in the documentation: https://pandas.pydata.org/pandas-docs/stable/user_guide/indexing.html#returning-a-view-versus-a-copy\n",
      "  data_all['Created'] = pd.to_datetime(data_all['Created'])\n",
      "/tmp/ipykernel_288/422160212.py:2: SettingWithCopyWarning: \n",
      "A value is trying to be set on a copy of a slice from a DataFrame.\n",
      "Try using .loc[row_indexer,col_indexer] = value instead\n",
      "\n",
      "See the caveats in the documentation: https://pandas.pydata.org/pandas-docs/stable/user_guide/indexing.html#returning-a-view-versus-a-copy\n",
      "  data_all['Updated'] = pd.to_datetime(data_all['Updated'])\n"
     ]
    }
   ],
   "source": [
    "data_all['Created'] = pd.to_datetime(data_all['Created'])\n",
    "data_all['Updated'] = pd.to_datetime(data_all['Updated'])"
   ]
  },
  {
   "cell_type": "code",
   "execution_count": 9,
   "id": "adfbc83e-27a6-4a61-afd1-7db763487856",
   "metadata": {},
   "outputs": [
    {
     "name": "stderr",
     "output_type": "stream",
     "text": [
      "/tmp/ipykernel_288/836562370.py:1: SettingWithCopyWarning: \n",
      "A value is trying to be set on a copy of a slice from a DataFrame.\n",
      "Try using .loc[row_indexer,col_indexer] = value instead\n",
      "\n",
      "See the caveats in the documentation: https://pandas.pydata.org/pandas-docs/stable/user_guide/indexing.html#returning-a-view-versus-a-copy\n",
      "  data_all['created_Time'] = data_all['Created'].dt.time\n",
      "/tmp/ipykernel_288/836562370.py:2: SettingWithCopyWarning: \n",
      "A value is trying to be set on a copy of a slice from a DataFrame.\n",
      "Try using .loc[row_indexer,col_indexer] = value instead\n",
      "\n",
      "See the caveats in the documentation: https://pandas.pydata.org/pandas-docs/stable/user_guide/indexing.html#returning-a-view-versus-a-copy\n",
      "  data_all['created_Date'] = data_all['Created'].dt.date\n"
     ]
    },
    {
     "name": "stdout",
     "output_type": "stream",
     "text": [
      "7     16:18:00\n",
      "11    16:04:00\n",
      "14    15:54:00\n",
      "16    15:34:00\n",
      "17    15:28:00\n",
      "Name: created_Time, dtype: object\n",
      "7     2022-10-25\n",
      "11    2022-10-25\n",
      "14    2022-10-25\n",
      "16    2022-10-25\n",
      "17    2022-10-25\n",
      "Name: created_Date, dtype: object\n"
     ]
    }
   ],
   "source": [
    "data_all['created_Time'] = data_all['Created'].dt.time\n",
    "data_all['created_Date'] = data_all['Created'].dt.date\n",
    "print(data_all['created_Time'][0:5])\n",
    "print(data_all['created_Date'][0:5])"
   ]
  },
  {
   "cell_type": "code",
   "execution_count": 10,
   "id": "7ba290b7-5c1b-47d8-afb5-704fd47d7730",
   "metadata": {},
   "outputs": [
    {
     "name": "stdout",
     "output_type": "stream",
     "text": [
      "7     16:32:00\n",
      "11    16:32:00\n",
      "14    16:09:00\n",
      "16    16:03:00\n",
      "17    16:25:00\n",
      "Name: last_Time, dtype: object\n",
      "7     2022-10-25\n",
      "11    2022-10-25\n",
      "14    2022-10-25\n",
      "16    2022-10-25\n",
      "17    2022-10-25\n",
      "Name: last_Date, dtype: object\n"
     ]
    },
    {
     "name": "stderr",
     "output_type": "stream",
     "text": [
      "/tmp/ipykernel_288/74109894.py:1: SettingWithCopyWarning: \n",
      "A value is trying to be set on a copy of a slice from a DataFrame.\n",
      "Try using .loc[row_indexer,col_indexer] = value instead\n",
      "\n",
      "See the caveats in the documentation: https://pandas.pydata.org/pandas-docs/stable/user_guide/indexing.html#returning-a-view-versus-a-copy\n",
      "  data_all['last_Time'] = data_all['Updated'].dt.time\n",
      "/tmp/ipykernel_288/74109894.py:2: SettingWithCopyWarning: \n",
      "A value is trying to be set on a copy of a slice from a DataFrame.\n",
      "Try using .loc[row_indexer,col_indexer] = value instead\n",
      "\n",
      "See the caveats in the documentation: https://pandas.pydata.org/pandas-docs/stable/user_guide/indexing.html#returning-a-view-versus-a-copy\n",
      "  data_all['last_Date'] = data_all['Updated'].dt.date\n"
     ]
    }
   ],
   "source": [
    "data_all['last_Time'] = data_all['Updated'].dt.time\n",
    "data_all['last_Date'] = data_all['Updated'].dt.date\n",
    "print(data_all['last_Time'][0:5])\n",
    "print(data_all['last_Date'][0:5])"
   ]
  },
  {
   "cell_type": "code",
   "execution_count": 11,
   "id": "06bbec05-d865-4eb2-9a7a-53ccb7a1c128",
   "metadata": {},
   "outputs": [
    {
     "name": "stdout",
     "output_type": "stream",
     "text": [
      "7    2022-10-25 16:18:00\n",
      "11   2022-10-25 16:04:00\n",
      "14   2022-10-25 15:54:00\n",
      "16   2022-10-25 15:34:00\n",
      "17   2022-10-25 15:28:00\n",
      "Name: Created, dtype: datetime64[ns]\n",
      "7    2022-10-25 16:32:00\n",
      "11   2022-10-25 16:32:00\n",
      "14   2022-10-25 16:09:00\n",
      "16   2022-10-25 16:03:00\n",
      "17   2022-10-25 16:25:00\n",
      "Name: Updated, dtype: datetime64[ns]\n"
     ]
    },
    {
     "name": "stderr",
     "output_type": "stream",
     "text": [
      "/tmp/ipykernel_288/2998103282.py:1: SettingWithCopyWarning: \n",
      "A value is trying to be set on a copy of a slice from a DataFrame.\n",
      "Try using .loc[row_indexer,col_indexer] = value instead\n",
      "\n",
      "See the caveats in the documentation: https://pandas.pydata.org/pandas-docs/stable/user_guide/indexing.html#returning-a-view-versus-a-copy\n",
      "  data_all['Created'] = pd.to_datetime(data_all['Created'], format = '%Y-%m-%d %H:%M:%S')\n",
      "/tmp/ipykernel_288/2998103282.py:2: SettingWithCopyWarning: \n",
      "A value is trying to be set on a copy of a slice from a DataFrame.\n",
      "Try using .loc[row_indexer,col_indexer] = value instead\n",
      "\n",
      "See the caveats in the documentation: https://pandas.pydata.org/pandas-docs/stable/user_guide/indexing.html#returning-a-view-versus-a-copy\n",
      "  data_all['Updated'] = pd.to_datetime(data_all['Updated'], format = '%y-%m-%d %H:%M:%S')\n"
     ]
    }
   ],
   "source": [
    "data_all['Created'] = pd.to_datetime(data_all['Created'], format = '%Y-%m-%d %H:%M:%S')\n",
    "data_all['Updated'] = pd.to_datetime(data_all['Updated'], format = '%y-%m-%d %H:%M:%S')\n",
    "print(data_all['Created'][0:5])\n",
    "print(data_all['Updated'][0:5])"
   ]
  },
  {
   "cell_type": "code",
   "execution_count": 12,
   "id": "1aaf4374-52c9-4d92-a324-eddb45e85af9",
   "metadata": {},
   "outputs": [
    {
     "name": "stderr",
     "output_type": "stream",
     "text": [
      "/tmp/ipykernel_288/2108434917.py:1: SettingWithCopyWarning: \n",
      "A value is trying to be set on a copy of a slice from a DataFrame.\n",
      "Try using .loc[row_indexer,col_indexer] = value instead\n",
      "\n",
      "See the caveats in the documentation: https://pandas.pydata.org/pandas-docs/stable/user_guide/indexing.html#returning-a-view-versus-a-copy\n",
      "  data_all['duration'] = data_all['Updated'] - data_all['Created']\n"
     ]
    },
    {
     "data": {
      "text/plain": [
       "7    0 days 00:14:00\n",
       "11   0 days 00:28:00\n",
       "14   0 days 00:15:00\n",
       "16   0 days 00:29:00\n",
       "17   0 days 00:57:00\n",
       "Name: duration, dtype: timedelta64[ns]"
      ]
     },
     "execution_count": 12,
     "metadata": {},
     "output_type": "execute_result"
    }
   ],
   "source": [
    "data_all['duration'] = data_all['Updated'] - data_all['Created']\n",
    "#df['duration'].dt.total_seconds()\n",
    "data_all['duration'].head()"
   ]
  },
  {
   "cell_type": "code",
   "execution_count": 13,
   "id": "028f7a6e-121d-46f2-bb42-a1e88daa8928",
   "metadata": {},
   "outputs": [
    {
     "name": "stdout",
     "output_type": "stream",
     "text": [
      "341 days 06:25:39.150464876\n"
     ]
    }
   ],
   "source": [
    " avg_duration = data_all['duration'].mean()\n",
    " print(avg_duration)"
   ]
  },
  {
   "cell_type": "code",
   "execution_count": 14,
   "id": "084f9ba8-9feb-4b08-8e6f-4389062908e3",
   "metadata": {},
   "outputs": [
    {
     "name": "stderr",
     "output_type": "stream",
     "text": [
      "/tmp/ipykernel_288/3628583027.py:1: SettingWithCopyWarning: \n",
      "A value is trying to be set on a copy of a slice from a DataFrame.\n",
      "Try using .loc[row_indexer,col_indexer] = value instead\n",
      "\n",
      "See the caveats in the documentation: https://pandas.pydata.org/pandas-docs/stable/user_guide/indexing.html#returning-a-view-versus-a-copy\n",
      "  data_all['day_of_week'] = data_all['Created'].dt.day_name()\n"
     ]
    }
   ],
   "source": [
    "data_all['day_of_week'] = data_all['Created'].dt.day_name()"
   ]
  },
  {
   "cell_type": "markdown",
   "id": "6301f1c0-a469-49ff-857e-37c8d3550278",
   "metadata": {},
   "source": [
    "Frequency by Day"
   ]
  },
  {
   "cell_type": "code",
   "execution_count": 15,
   "id": "0e796fca-8693-45f9-b3c8-911002d484bd",
   "metadata": {},
   "outputs": [
    {
     "name": "stdout",
     "output_type": "stream",
     "text": [
      "Monday       20472\n",
      "Tuesday      19138\n",
      "Wednesday    18226\n",
      "Thursday     17332\n",
      "Friday       13313\n",
      "Saturday      2537\n",
      "Sunday        2233\n",
      "Name: day_of_week, dtype: int64\n"
     ]
    }
   ],
   "source": [
    "ticket_frequency = data_all['day_of_week'].value_counts()\n",
    "print(ticket_frequency)"
   ]
  },
  {
   "cell_type": "code",
   "execution_count": 16,
   "id": "a689391a-8f8b-4ba0-ac4e-ff829b8fe978",
   "metadata": {},
   "outputs": [
    {
     "name": "stderr",
     "output_type": "stream",
     "text": [
      "<frozen importlib._bootstrap>:219: RuntimeWarning: scipy._lib.messagestream.MessageStream size changed, may indicate binary incompatibility. Expected 56 from C header, got 64 from PyObject\n"
     ]
    }
   ],
   "source": [
    "import matplotlib.pyplot as plt\n",
    "import seaborn as sns"
   ]
  },
  {
   "cell_type": "code",
   "execution_count": 17,
   "id": "66e04b92-5bd5-49fd-95d8-27b27a68bde3",
   "metadata": {},
   "outputs": [
    {
     "data": {
      "text/plain": [
       "<AxesSubplot:xlabel='day_of_week', ylabel='count'>"
      ]
     },
     "execution_count": 17,
     "metadata": {},
     "output_type": "execute_result"
    },
    {
     "data": {
      "image/png": "[encoded data removed]",
      "text/plain": [
       "<Figure size 842.4x595.44 with 1 Axes>"
      ]
     },
     "metadata": {},
     "output_type": "display_data"
    }
   ],
   "source": [
    "sns.set(rc={'figure.figsize':(11.7,8.27)})\n",
    "sns.countplot(x = 'day_of_week', data = data_all, order = data_all['day_of_week'].value_counts().index)\n"
   ]
  },
  {
   "cell_type": "code",
   "execution_count": 18,
   "id": "4a31db1a-1ab9-4363-bf92-4ac039de0641",
   "metadata": {},
   "outputs": [
    {
     "name": "stdout",
     "output_type": "stream",
     "text": [
      "7    2022-10-25 16:18:00\n",
      "11   2022-10-25 16:04:00\n",
      "14   2022-10-25 15:54:00\n",
      "16   2022-10-25 15:34:00\n",
      "17   2022-10-25 15:28:00\n",
      "Name: Created, dtype: datetime64[ns]\n"
     ]
    }
   ],
   "source": [
    "print(data_all.Created.head())"
   ]
  },
  {
   "cell_type": "markdown",
   "id": "b5af2436-a8cf-4533-ab69-367df1b021ed",
   "metadata": {},
   "source": [
    "Frequency by Month"
   ]
  },
  {
   "cell_type": "code",
   "execution_count": 19,
   "id": "d40f28e8-114a-4e38-b8a7-423ea50a5b08",
   "metadata": {},
   "outputs": [
    {
     "name": "stderr",
     "output_type": "stream",
     "text": [
      "/tmp/ipykernel_288/3440553177.py:1: SettingWithCopyWarning: \n",
      "A value is trying to be set on a copy of a slice from a DataFrame.\n",
      "Try using .loc[row_indexer,col_indexer] = value instead\n",
      "\n",
      "See the caveats in the documentation: https://pandas.pydata.org/pandas-docs/stable/user_guide/indexing.html#returning-a-view-versus-a-copy\n",
      "  data_all['month'] = data_all['Created'].dt.month_name()\n"
     ]
    }
   ],
   "source": [
    "data_all['month'] = data_all['Created'].dt.month_name()"
   ]
  },
  {
   "cell_type": "code",
   "execution_count": 20,
   "id": "5b1e035b-0825-4157-aa87-1ede62e1e311",
   "metadata": {},
   "outputs": [
    {
     "name": "stdout",
     "output_type": "stream",
     "text": [
      "April         7490\n",
      "August        8358\n",
      "December      6188\n",
      "February      6814\n",
      "January       7395\n",
      "July          7667\n",
      "June          8918\n",
      "March         7552\n",
      "May           8209\n",
      "November      6171\n",
      "October      10957\n",
      "September     7532\n",
      "Name: month, dtype: int64\n"
     ]
    }
   ],
   "source": [
    "print(data_all['month'].value_counts().sort_index())"
   ]
  },
  {
   "cell_type": "code",
   "execution_count": 21,
   "id": "64a344bc-2b20-48f2-b3e3-08a1985e9e92",
   "metadata": {},
   "outputs": [],
   "source": [
    "df2022 = data_all.loc[data_all['Created'].between(\"2022-01-01\", \"2022-12-31\")]\n",
    "#df2 = df.loc[df[\"InsertedDates\"].between(\"2021-11-16\", \"2021-11-18\")]"
   ]
  },
  {
   "cell_type": "code",
   "execution_count": 22,
   "id": "ef77ec63-6438-4c6d-800f-813033db5354",
   "metadata": {},
   "outputs": [
    {
     "data": {
      "text/plain": [
       "Text(0.5, 1.0, '2022')"
      ]
     },
     "execution_count": 22,
     "metadata": {},
     "output_type": "execute_result"
    },
    {
     "data": {
      "image/png": "[encoded data removed]",
      "text/plain": [
       "<Figure size 842.4x595.44 with 1 Axes>"
      ]
     },
     "metadata": {},
     "output_type": "display_data"
    }
   ],
   "source": [
    "sns.countplot(data = df2022, x = 'month')\n",
    "plt.title(\"2022\")"
   ]
  },
  {
   "cell_type": "code",
   "execution_count": 23,
   "id": "df337087-7841-418d-a372-239b1c03e182",
   "metadata": {},
   "outputs": [
    {
     "data": {
      "text/plain": [
       "Text(0.5, 1.0, '2021')"
      ]
     },
     "execution_count": 23,
     "metadata": {},
     "output_type": "execute_result"
    },
    {
     "data": {
      "image/png": "[encoded data removed]",
      "text/plain": [
       "<Figure size 842.4x595.44 with 1 Axes>"
      ]
     },
     "metadata": {},
     "output_type": "display_data"
    }
   ],
   "source": [
    "df2021 = data_all.loc[data_all['Created'].between(\"2021-01-01\", \"2021-12-31\")]\n",
    "sns.countplot(data = df2022, x = 'month')\n",
    "plt.title(\"2021\")"
   ]
  },
  {
   "cell_type": "code",
   "execution_count": 24,
   "id": "46e8c25e-bfc3-4443-8e5b-e70f21609504",
   "metadata": {},
   "outputs": [
    {
     "data": {
      "text/plain": [
       "count                          93251\n",
       "mean     341 days 06:25:39.150464876\n",
       "std      468 days 04:35:58.635831088\n",
       "min                  0 days 00:00:00\n",
       "25%                  1 days 18:58:00\n",
       "50%                134 days 18:09:00\n",
       "75%                520 days 05:16:00\n",
       "max               2498 days 19:45:00\n",
       "Name: duration, dtype: object"
      ]
     },
     "execution_count": 24,
     "metadata": {},
     "output_type": "execute_result"
    }
   ],
   "source": [
    "data_all['duration'].describe()"
   ]
  },
  {
   "cell_type": "code",
   "execution_count": 25,
   "id": "cd93728f-78bc-45ff-a29b-1b91d64662dd",
   "metadata": {},
   "outputs": [
    {
     "name": "stdout",
     "output_type": "stream",
     "text": [
      "2498 days 19:45:00\n"
     ]
    }
   ],
   "source": [
    "df_n = data_all['duration'].max()\n",
    "print(df_n)"
   ]
  },
  {
   "cell_type": "code",
   "execution_count": 26,
   "id": "ccc509d9-f766-45a1-854f-89429dcc0c84",
   "metadata": {},
   "outputs": [
    {
     "data": {
      "text/plain": [
       "'You are receiving this email because your Amazon CloudWatch Alarm \"MGO SCPDC-FS\" in the US East (N. Virginia) region has entered the ALARM state, because \"Threshold Crossed: 1 out of the last 1 datapoints [100.0 (15/10/22 10:05:00)] was greater than or equal to the threshold (95.0) (minimum 1 datapoint for OK -> ALARM transition).\" at \"Saturday 15 October, 2022 10:10:21 UTC\".\\r\\n\\r\\nView this alarm in the AWS Management Console:\\r\\nhttps://us-east-1.console.aws.amazon.com/cloudwatch/deeplink.js?region=us-east-1#alarmsV2:alarm/MGO%20SCPDC-FS\\r\\n\\r\\nAlarm Details:\\r\\n- Name:                       MGO SCPDC-FS\\r\\n- Description:                High CPU\\r\\n- State Change:               OK -> ALARM\\r\\n- Reason for State Change:    Threshold Crossed: 1 out of the last 1 datapoints [100.0 (15/10/22 10:05:00)] was greater than or equal to the threshold (95.0) (minimum 1 datapoint for OK -> ALARM transition).\\r\\n- Timestamp:                  Saturday 15 October, 2022 10:10:21 UTC\\r\\n- AWS Account:                626388215965\\r\\n- Alarm Arn:                  arn:aws:cloudwatch:us-east-1:626388215965:alarm:MGO SCPDC-FS\\r\\n\\r\\nThreshold:\\r\\n- The alarm is in the ALARM state when the metric is GreaterThanOrEqualToThreshold 95.0 for at least 1 of the last 1 period(s) of 60 seconds. \\r\\n\\r\\nMonitored Metric:\\r\\n- MetricNamespace:                     AWS/EC2\\r\\n- MetricName:                          CPUUtilization\\r\\n- Dimensions:                          [InstanceId = i-003a4df59665a15ff]\\r\\n- Period:                              60 seconds\\r\\n- Statistic:                           Maximum\\r\\n- Unit:                                not specified\\r\\n- TreatMissingData:                    ignore\\r\\n\\r\\n\\r\\nState Change Actions:\\r\\n- OK: \\r\\n- ALARM: [arn:aws:sns:us-east-1:626388215965:server_alerts]\\r\\n- INSUFFICIENT_DATA: \\r\\n\\r\\n\\r\\n--\\r\\nIf you wish to stop receiving notifications from this topic, please click or visit the link below to unsubscribe:\\r\\nhttps://sns.us-east-1.amazonaws.com/unsubscribe.html?SubscriptionArn=arn:aws:sns:us-east-1:626388215965:server_alerts:3a64b196-8e47-4f90-a7ae-2a4a8df51391&Endpoint=support@mygovernmentonline.org\\r\\n\\r\\nPlease do not reply directly to this email. If you have any questions or comments regarding this email, please contact us at https://aws.amazon.com/support\\n[Created via e-mail received from: srvr_alert <no-reply@sns.amazonaws.com>]'"
      ]
     },
     "execution_count": 26,
     "metadata": {},
     "output_type": "execute_result"
    }
   ],
   "source": [
    "data_all.loc[data_all['duration'].idxmin()]['Description']"
   ]
  },
  {
   "cell_type": "code",
   "execution_count": 27,
   "id": "97d8d7e9-eabd-40ca-bdbb-15190833ef53",
   "metadata": {},
   "outputs": [
    {
     "data": {
      "text/plain": [
       "'\\nMyGovernmentOnline.org\\n\\nNew Contact Request\\n\\nTime Sent: 2/12/2014 4:34:07 PM\\n\\nName: ryan hutchinson\\n\\nE-mail: rjhutchinson@gmail.com\\n\\nPhone: (985) 226-0075\\n\\nSubject: test\\n\\nMessage:\\n\\ntest\\n[Created via e-mail received from: no-reply@mygovernmentonline.org]'"
      ]
     },
     "execution_count": 27,
     "metadata": {},
     "output_type": "execute_result"
    }
   ],
   "source": [
    "data_all.loc[data_all['duration'].idxmax()]['Description']"
   ]
  },
  {
   "cell_type": "code",
   "execution_count": 28,
   "id": "bc950418-ec3a-48ad-8c4c-6bf7d6a24cee",
   "metadata": {},
   "outputs": [
    {
     "data": {
      "text/plain": [
       "Int64Index([93965, 93966], dtype='int64')"
      ]
     },
     "execution_count": 28,
     "metadata": {},
     "output_type": "execute_result"
    }
   ],
   "source": [
    "#df[df['LastName'] == 'Smith'].index\n",
    "data_all[data_all['duration'] == '2498 days 19:45:00'].index"
   ]
  },
  {
   "cell_type": "code",
   "execution_count": 29,
   "id": "b38c4a23-5eaa-4cb9-a30f-e9332a8e0f79",
   "metadata": {},
   "outputs": [
    {
     "data": {
      "text/html": [
       "<div>\n",
       "<style scoped>\n",
       "    .dataframe tbody tr th:only-of-type {\n",
       "        vertical-align: middle;\n",
       "    }\n",
       "\n",
       "    .dataframe tbody tr th {\n",
       "        vertical-align: top;\n",
       "    }\n",
       "\n",
       "    .dataframe thead th {\n",
       "        text-align: right;\n",
       "    }\n",
       "</style>\n",
       "<table border=\"1\" class=\"dataframe\">\n",
       "  <thead>\n",
       "    <tr style=\"text-align: right;\">\n",
       "      <th></th>\n",
       "      <th>Unnamed: 0</th>\n",
       "      <th>Unnamed: 0.1</th>\n",
       "      <th>Summary</th>\n",
       "      <th>Issue key</th>\n",
       "      <th>Issue id</th>\n",
       "      <th>Issue Type</th>\n",
       "      <th>Status</th>\n",
       "      <th>Project key</th>\n",
       "      <th>Project name</th>\n",
       "      <th>Project type</th>\n",
       "      <th>...</th>\n",
       "      <th>Due date</th>\n",
       "      <th>Description</th>\n",
       "      <th>Unnamed: 27</th>\n",
       "      <th>created_Time</th>\n",
       "      <th>created_Date</th>\n",
       "      <th>last_Time</th>\n",
       "      <th>last_Date</th>\n",
       "      <th>duration</th>\n",
       "      <th>day_of_week</th>\n",
       "      <th>month</th>\n",
       "    </tr>\n",
       "  </thead>\n",
       "  <tbody>\n",
       "    <tr>\n",
       "      <th>7</th>\n",
       "      <td>7</td>\n",
       "      <td>8</td>\n",
       "      <td>MyGovernmentOnline.org - New Contact Request</td>\n",
       "      <td>MWS-123765</td>\n",
       "      <td>184515.0</td>\n",
       "      <td>Customer Portal (Web)</td>\n",
       "      <td>Closed</td>\n",
       "      <td>MWS</td>\n",
       "      <td>MGO Website Support</td>\n",
       "      <td>software</td>\n",
       "      <td>...</td>\n",
       "      <td>NaN</td>\n",
       "      <td>MyGovernmentOnline.org\\n\\nNew Contact Request\\...</td>\n",
       "      <td>NaN</td>\n",
       "      <td>16:18:00</td>\n",
       "      <td>2022-10-25</td>\n",
       "      <td>16:32:00</td>\n",
       "      <td>2022-10-25</td>\n",
       "      <td>0 days 00:14:00</td>\n",
       "      <td>Tuesday</td>\n",
       "      <td>October</td>\n",
       "    </tr>\n",
       "    <tr>\n",
       "      <th>11</th>\n",
       "      <td>11</td>\n",
       "      <td>12</td>\n",
       "      <td>custom report valuation and fee report -please...</td>\n",
       "      <td>MWS-123761</td>\n",
       "      <td>184511.0</td>\n",
       "      <td>Reports/ Letters</td>\n",
       "      <td>Closed</td>\n",
       "      <td>MWS</td>\n",
       "      <td>MGO Website Support</td>\n",
       "      <td>software</td>\n",
       "      <td>...</td>\n",
       "      <td>NaN</td>\n",
       "      <td>The following permit types should not be displ...</td>\n",
       "      <td>NaN</td>\n",
       "      <td>16:04:00</td>\n",
       "      <td>2022-10-25</td>\n",
       "      <td>16:32:00</td>\n",
       "      <td>2022-10-25</td>\n",
       "      <td>0 days 00:28:00</td>\n",
       "      <td>Tuesday</td>\n",
       "      <td>October</td>\n",
       "    </tr>\n",
       "    <tr>\n",
       "      <th>14</th>\n",
       "      <td>14</td>\n",
       "      <td>15</td>\n",
       "      <td>MyGovernmentOnline.org - New Contact Request</td>\n",
       "      <td>MWS-123758</td>\n",
       "      <td>184508.0</td>\n",
       "      <td>Customer Portal (Web)</td>\n",
       "      <td>Closed</td>\n",
       "      <td>MWS</td>\n",
       "      <td>MGO Website Support</td>\n",
       "      <td>software</td>\n",
       "      <td>...</td>\n",
       "      <td>NaN</td>\n",
       "      <td>MyGovernmentOnline.org\\n\\nNew Contact Request\\...</td>\n",
       "      <td>NaN</td>\n",
       "      <td>15:54:00</td>\n",
       "      <td>2022-10-25</td>\n",
       "      <td>16:09:00</td>\n",
       "      <td>2022-10-25</td>\n",
       "      <td>0 days 00:15:00</td>\n",
       "      <td>Tuesday</td>\n",
       "      <td>October</td>\n",
       "    </tr>\n",
       "    <tr>\n",
       "      <th>16</th>\n",
       "      <td>16</td>\n",
       "      <td>17</td>\n",
       "      <td>MyGovernmentOnline.org - New Contact Request</td>\n",
       "      <td>MWS-123756</td>\n",
       "      <td>184506.0</td>\n",
       "      <td>Customer Portal (Web)</td>\n",
       "      <td>Closed</td>\n",
       "      <td>MWS</td>\n",
       "      <td>MGO Website Support</td>\n",
       "      <td>software</td>\n",
       "      <td>...</td>\n",
       "      <td>NaN</td>\n",
       "      <td>MyGovernmentOnline.org\\n\\nNew Contact Request\\...</td>\n",
       "      <td>NaN</td>\n",
       "      <td>15:34:00</td>\n",
       "      <td>2022-10-25</td>\n",
       "      <td>16:03:00</td>\n",
       "      <td>2022-10-25</td>\n",
       "      <td>0 days 00:29:00</td>\n",
       "      <td>Tuesday</td>\n",
       "      <td>October</td>\n",
       "    </tr>\n",
       "    <tr>\n",
       "      <th>17</th>\n",
       "      <td>17</td>\n",
       "      <td>18</td>\n",
       "      <td>Please remove user: Shannon Haynes</td>\n",
       "      <td>MWS-123755</td>\n",
       "      <td>184505.0</td>\n",
       "      <td>Account Edit / Creation</td>\n",
       "      <td>Closed</td>\n",
       "      <td>MWS</td>\n",
       "      <td>MGO Website Support</td>\n",
       "      <td>software</td>\n",
       "      <td>...</td>\n",
       "      <td>NaN</td>\n",
       "      <td>Good Afternoon,\\r\\n\\r\\nPlease remove the user ...</td>\n",
       "      <td>NaN</td>\n",
       "      <td>15:28:00</td>\n",
       "      <td>2022-10-25</td>\n",
       "      <td>16:25:00</td>\n",
       "      <td>2022-10-25</td>\n",
       "      <td>0 days 00:57:00</td>\n",
       "      <td>Tuesday</td>\n",
       "      <td>October</td>\n",
       "    </tr>\n",
       "    <tr>\n",
       "      <th>...</th>\n",
       "      <td>...</td>\n",
       "      <td>...</td>\n",
       "      <td>...</td>\n",
       "      <td>...</td>\n",
       "      <td>...</td>\n",
       "      <td>...</td>\n",
       "      <td>...</td>\n",
       "      <td>...</td>\n",
       "      <td>...</td>\n",
       "      <td>...</td>\n",
       "      <td>...</td>\n",
       "      <td>...</td>\n",
       "      <td>...</td>\n",
       "      <td>...</td>\n",
       "      <td>...</td>\n",
       "      <td>...</td>\n",
       "      <td>...</td>\n",
       "      <td>...</td>\n",
       "      <td>...</td>\n",
       "      <td>...</td>\n",
       "      <td>...</td>\n",
       "    </tr>\n",
       "    <tr>\n",
       "      <th>93960</th>\n",
       "      <td>93960</td>\n",
       "      <td>93939</td>\n",
       "      <td>MyGovernmentOnline.org - New Contact Request</td>\n",
       "      <td>MWS-7</td>\n",
       "      <td>10620.0</td>\n",
       "      <td>Sub-task</td>\n",
       "      <td>Closed</td>\n",
       "      <td>MWS</td>\n",
       "      <td>MGO Website Support</td>\n",
       "      <td>software</td>\n",
       "      <td>...</td>\n",
       "      <td>NaN</td>\n",
       "      <td>\\nMyGovernmentOnline.org\\n\\nNew Contact Reques...</td>\n",
       "      <td>NaN</td>\n",
       "      <td>08:39:00</td>\n",
       "      <td>2014-02-14</td>\n",
       "      <td>11:19:00</td>\n",
       "      <td>2020-12-16</td>\n",
       "      <td>2497 days 02:40:00</td>\n",
       "      <td>Friday</td>\n",
       "      <td>February</td>\n",
       "    </tr>\n",
       "    <tr>\n",
       "      <th>93961</th>\n",
       "      <td>93961</td>\n",
       "      <td>93940</td>\n",
       "      <td>MyGovernmentOnline.org - New Contact Request</td>\n",
       "      <td>MWS-6</td>\n",
       "      <td>10619.0</td>\n",
       "      <td>Sub-task</td>\n",
       "      <td>Closed</td>\n",
       "      <td>MWS</td>\n",
       "      <td>MGO Website Support</td>\n",
       "      <td>software</td>\n",
       "      <td>...</td>\n",
       "      <td>NaN</td>\n",
       "      <td>\\nMyGovernmentOnline.org\\n\\nNew Contact Reques...</td>\n",
       "      <td>NaN</td>\n",
       "      <td>08:27:00</td>\n",
       "      <td>2014-02-14</td>\n",
       "      <td>11:19:00</td>\n",
       "      <td>2020-12-16</td>\n",
       "      <td>2497 days 02:52:00</td>\n",
       "      <td>Friday</td>\n",
       "      <td>February</td>\n",
       "    </tr>\n",
       "    <tr>\n",
       "      <th>93962</th>\n",
       "      <td>93962</td>\n",
       "      <td>93941</td>\n",
       "      <td>MyGovernmentOnline.org - New Contact Request</td>\n",
       "      <td>MWS-5</td>\n",
       "      <td>10618.0</td>\n",
       "      <td>Sub-task</td>\n",
       "      <td>Closed</td>\n",
       "      <td>MWS</td>\n",
       "      <td>MGO Website Support</td>\n",
       "      <td>software</td>\n",
       "      <td>...</td>\n",
       "      <td>NaN</td>\n",
       "      <td>\\nMyGovernmentOnline.org\\n\\nNew Contact Reques...</td>\n",
       "      <td>NaN</td>\n",
       "      <td>23:29:00</td>\n",
       "      <td>2014-02-13</td>\n",
       "      <td>11:19:00</td>\n",
       "      <td>2020-12-16</td>\n",
       "      <td>2497 days 11:50:00</td>\n",
       "      <td>Thursday</td>\n",
       "      <td>February</td>\n",
       "    </tr>\n",
       "    <tr>\n",
       "      <th>93963</th>\n",
       "      <td>93963</td>\n",
       "      <td>93942</td>\n",
       "      <td>MyGovernmentOnline.org - New Contact Request</td>\n",
       "      <td>MWS-4</td>\n",
       "      <td>10615.0</td>\n",
       "      <td>Sub-task</td>\n",
       "      <td>Closed</td>\n",
       "      <td>MWS</td>\n",
       "      <td>MGO Website Support</td>\n",
       "      <td>software</td>\n",
       "      <td>...</td>\n",
       "      <td>NaN</td>\n",
       "      <td>\\nMyGovernmentOnline.org\\n\\nNew Contact Reques...</td>\n",
       "      <td>NaN</td>\n",
       "      <td>12:24:00</td>\n",
       "      <td>2014-02-13</td>\n",
       "      <td>11:19:00</td>\n",
       "      <td>2020-12-16</td>\n",
       "      <td>2497 days 22:55:00</td>\n",
       "      <td>Thursday</td>\n",
       "      <td>February</td>\n",
       "    </tr>\n",
       "    <tr>\n",
       "      <th>93964</th>\n",
       "      <td>93964</td>\n",
       "      <td>93943</td>\n",
       "      <td>RE: MyGovernmentOnline.org - New Contact Request</td>\n",
       "      <td>MWS-3</td>\n",
       "      <td>10610.0</td>\n",
       "      <td>Sub-task</td>\n",
       "      <td>Closed</td>\n",
       "      <td>MWS</td>\n",
       "      <td>MGO Website Support</td>\n",
       "      <td>software</td>\n",
       "      <td>...</td>\n",
       "      <td>NaN</td>\n",
       "      <td>We are in the process of setting that up for t...</td>\n",
       "      <td>NaN</td>\n",
       "      <td>15:52:00</td>\n",
       "      <td>2014-02-12</td>\n",
       "      <td>11:19:00</td>\n",
       "      <td>2020-12-16</td>\n",
       "      <td>2498 days 19:27:00</td>\n",
       "      <td>Wednesday</td>\n",
       "      <td>February</td>\n",
       "    </tr>\n",
       "  </tbody>\n",
       "</table>\n",
       "<p>93249 rows × 36 columns</p>\n",
       "</div>"
      ],
      "text/plain": [
       "       Unnamed: 0 Unnamed: 0.1  \\\n",
       "7               7            8   \n",
       "11             11           12   \n",
       "14             14           15   \n",
       "16             16           17   \n",
       "17             17           18   \n",
       "...           ...          ...   \n",
       "93960       93960        93939   \n",
       "93961       93961        93940   \n",
       "93962       93962        93941   \n",
       "93963       93963        93942   \n",
       "93964       93964        93943   \n",
       "\n",
       "                                                 Summary   Issue key  \\\n",
       "7           MyGovernmentOnline.org - New Contact Request  MWS-123765   \n",
       "11     custom report valuation and fee report -please...  MWS-123761   \n",
       "14          MyGovernmentOnline.org - New Contact Request  MWS-123758   \n",
       "16          MyGovernmentOnline.org - New Contact Request  MWS-123756   \n",
       "17                    Please remove user: Shannon Haynes  MWS-123755   \n",
       "...                                                  ...         ...   \n",
       "93960       MyGovernmentOnline.org - New Contact Request       MWS-7   \n",
       "93961       MyGovernmentOnline.org - New Contact Request       MWS-6   \n",
       "93962       MyGovernmentOnline.org - New Contact Request       MWS-5   \n",
       "93963       MyGovernmentOnline.org - New Contact Request       MWS-4   \n",
       "93964   RE: MyGovernmentOnline.org - New Contact Request       MWS-3   \n",
       "\n",
       "       Issue id               Issue Type  Status Project key  \\\n",
       "7      184515.0    Customer Portal (Web)  Closed         MWS   \n",
       "11     184511.0         Reports/ Letters  Closed         MWS   \n",
       "14     184508.0    Customer Portal (Web)  Closed         MWS   \n",
       "16     184506.0    Customer Portal (Web)  Closed         MWS   \n",
       "17     184505.0  Account Edit / Creation  Closed         MWS   \n",
       "...         ...                      ...     ...         ...   \n",
       "93960   10620.0                 Sub-task  Closed         MWS   \n",
       "93961   10619.0                 Sub-task  Closed         MWS   \n",
       "93962   10618.0                 Sub-task  Closed         MWS   \n",
       "93963   10615.0                 Sub-task  Closed         MWS   \n",
       "93964   10610.0                 Sub-task  Closed         MWS   \n",
       "\n",
       "              Project name Project type  ... Due date  \\\n",
       "7      MGO Website Support     software  ...      NaN   \n",
       "11     MGO Website Support     software  ...      NaN   \n",
       "14     MGO Website Support     software  ...      NaN   \n",
       "16     MGO Website Support     software  ...      NaN   \n",
       "17     MGO Website Support     software  ...      NaN   \n",
       "...                    ...          ...  ...      ...   \n",
       "93960  MGO Website Support     software  ...      NaN   \n",
       "93961  MGO Website Support     software  ...      NaN   \n",
       "93962  MGO Website Support     software  ...      NaN   \n",
       "93963  MGO Website Support     software  ...      NaN   \n",
       "93964  MGO Website Support     software  ...      NaN   \n",
       "\n",
       "                                             Description Unnamed: 27  \\\n",
       "7      MyGovernmentOnline.org\\n\\nNew Contact Request\\...         NaN   \n",
       "11     The following permit types should not be displ...         NaN   \n",
       "14     MyGovernmentOnline.org\\n\\nNew Contact Request\\...         NaN   \n",
       "16     MyGovernmentOnline.org\\n\\nNew Contact Request\\...         NaN   \n",
       "17     Good Afternoon,\\r\\n\\r\\nPlease remove the user ...         NaN   \n",
       "...                                                  ...         ...   \n",
       "93960  \\nMyGovernmentOnline.org\\n\\nNew Contact Reques...         NaN   \n",
       "93961  \\nMyGovernmentOnline.org\\n\\nNew Contact Reques...         NaN   \n",
       "93962  \\nMyGovernmentOnline.org\\n\\nNew Contact Reques...         NaN   \n",
       "93963  \\nMyGovernmentOnline.org\\n\\nNew Contact Reques...         NaN   \n",
       "93964  We are in the process of setting that up for t...         NaN   \n",
       "\n",
       "       created_Time created_Date last_Time   last_Date           duration  \\\n",
       "7          16:18:00   2022-10-25  16:32:00  2022-10-25    0 days 00:14:00   \n",
       "11         16:04:00   2022-10-25  16:32:00  2022-10-25    0 days 00:28:00   \n",
       "14         15:54:00   2022-10-25  16:09:00  2022-10-25    0 days 00:15:00   \n",
       "16         15:34:00   2022-10-25  16:03:00  2022-10-25    0 days 00:29:00   \n",
       "17         15:28:00   2022-10-25  16:25:00  2022-10-25    0 days 00:57:00   \n",
       "...             ...          ...       ...         ...                ...   \n",
       "93960      08:39:00   2014-02-14  11:19:00  2020-12-16 2497 days 02:40:00   \n",
       "93961      08:27:00   2014-02-14  11:19:00  2020-12-16 2497 days 02:52:00   \n",
       "93962      23:29:00   2014-02-13  11:19:00  2020-12-16 2497 days 11:50:00   \n",
       "93963      12:24:00   2014-02-13  11:19:00  2020-12-16 2497 days 22:55:00   \n",
       "93964      15:52:00   2014-02-12  11:19:00  2020-12-16 2498 days 19:27:00   \n",
       "\n",
       "      day_of_week     month  \n",
       "7         Tuesday   October  \n",
       "11        Tuesday   October  \n",
       "14        Tuesday   October  \n",
       "16        Tuesday   October  \n",
       "17        Tuesday   October  \n",
       "...           ...       ...  \n",
       "93960      Friday  February  \n",
       "93961      Friday  February  \n",
       "93962    Thursday  February  \n",
       "93963    Thursday  February  \n",
       "93964   Wednesday  February  \n",
       "\n",
       "[93249 rows x 36 columns]"
      ]
     },
     "execution_count": 29,
     "metadata": {},
     "output_type": "execute_result"
    }
   ],
   "source": [
    "data_all.drop([93965, 93966])"
   ]
  },
  {
   "cell_type": "code",
   "execution_count": 30,
   "id": "2d7bab99-c80e-4ce8-8531-e54682f98319",
   "metadata": {},
   "outputs": [
    {
     "data": {
      "text/plain": [
       "count                          93251\n",
       "mean     341 days 06:25:39.150464876\n",
       "std      468 days 04:35:58.635831088\n",
       "min                  0 days 00:00:00\n",
       "25%                  1 days 18:58:00\n",
       "50%                134 days 18:09:00\n",
       "75%                520 days 05:16:00\n",
       "max               2498 days 19:45:00\n",
       "Name: duration, dtype: object"
      ]
     },
     "execution_count": 30,
     "metadata": {},
     "output_type": "execute_result"
    }
   ],
   "source": [
    "data_all['duration'].describe()"
   ]
  },
  {
   "cell_type": "code",
   "execution_count": 31,
   "id": "ef8a703a-1b93-467d-b77b-002f10089778",
   "metadata": {},
   "outputs": [
    {
     "data": {
      "text/plain": [
       "17153"
      ]
     },
     "execution_count": 31,
     "metadata": {},
     "output_type": "execute_result"
    }
   ],
   "source": [
    "len(data_all[data_all['duration'] > timedelta(days = 730)])"
   ]
  }
 ],
 "metadata": {
  "kernelspec": {
   "display_name": "Python 3 (ipykernel)",
   "language": "python",
   "name": "python3"
  },
  "language_info": {
   "codemirror_mode": {
    "name": "ipython",
    "version": 3
   },
   "file_extension": ".py",
   "mimetype": "text/x-python",
   "name": "python",
   "nbconvert_exporter": "python",
   "pygments_lexer": "ipython3",
   "version": "3.8.13"
  },
  "widgets": {
   "application/vnd.jupyter.widget-state+json": {
    "state": {},
    "version_major": 2,
    "version_minor": 0
   }
  }
 },
 "nbformat": 4,
 "nbformat_minor": 5
}
