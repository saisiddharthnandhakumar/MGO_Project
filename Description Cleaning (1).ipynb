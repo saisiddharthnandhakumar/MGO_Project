{
 "cells": [
  {
   "cell_type": "markdown",
   "id": "21c26d23-41f7-4d60-9e29-c7058e447c17",
   "metadata": {},
   "source": [
    "Importing Necessary Libraries"
   ]
  },
  {
   "cell_type": "code",
   "execution_count": null,
   "id": "46e167b2-e4b6-463c-a9dc-a52a0510b8ca",
   "metadata": {},
   "outputs": [],
   "source": [
    "pip install wordcloud"
   ]
  },
  {
   "cell_type": "code",
   "execution_count": 1,
   "id": "2956a5d7-d261-45bc-a276-4afd246d3ae5",
   "metadata": {},
   "outputs": [],
   "source": [
    "import pandas as pd\n",
    "import numpy as np\n",
    "from wordcloud import WordCloud\n",
    "from sklearn.feature_extraction.text import TfidfVectorizer, ENGLISH_STOP_WORDS\n",
    "import matplotlib.pyplot as plt"
   ]
  },
  {
   "cell_type": "markdown",
   "id": "041ab026-39d7-4490-af1e-4984f64b5027",
   "metadata": {},
   "source": [
    "Reading the Clean csv file"
   ]
  },
  {
   "cell_type": "code",
   "execution_count": 2,
   "id": "ec4037d8-08a0-4b06-8a44-0524e5c92342",
   "metadata": {},
   "outputs": [
    {
     "name": "stderr",
     "output_type": "stream",
     "text": [
      "/opt/conda/lib/python3.8/site-packages/IPython/core/interactiveshell.py:3369: DtypeWarning: Columns (1) have mixed types.Specify dtype option on import or set low_memory=False.\n",
      "  exec(code_obj, self.user_global_ns, self.user_ns)\n"
     ]
    }
   ],
   "source": [
    "data_all = pd.read_csv('cLean_file.csv')"
   ]
  },
  {
   "cell_type": "code",
   "execution_count": 3,
   "id": "774f4535-16a1-49f4-bf4e-70d3a1ad3f52",
   "metadata": {},
   "outputs": [
    {
     "name": "stdout",
     "output_type": "stream",
     "text": [
      "Index(['Unnamed: 0', 'Unnamed: 0.1', 'Summary', 'Issue key', 'Issue id',\n",
      "       'Issue Type', 'Status', 'Project key', 'Project name', 'Project type',\n",
      "       'Project lead', 'Project lead id', 'Project description', 'Project url',\n",
      "       'Priority', 'Resolution', 'Assignee', 'Assignee Id', 'Reporter',\n",
      "       'Reporter Id', 'Creator', 'Creator Id', 'Created', 'Updated',\n",
      "       'Last Viewed', 'Resolved', 'Due date', 'Description', 'Unnamed: 27',\n",
      "       'created_Time', 'created_Date', 'last_Time', 'last_Date', 'duration',\n",
      "       'day_of_week'],\n",
      "      dtype='object')\n"
     ]
    }
   ],
   "source": [
    "print(data_all.columns)"
   ]
  },
  {
   "cell_type": "code",
   "execution_count": 4,
   "id": "8c166b27-efea-40e5-aef7-fa9b9f3b2931",
   "metadata": {},
   "outputs": [
    {
     "name": "stdout",
     "output_type": "stream",
     "text": [
      "35\n"
     ]
    }
   ],
   "source": [
    "print(len(data_all.columns))"
   ]
  },
  {
   "cell_type": "code",
   "execution_count": 5,
   "id": "4356ef14-87bd-42f4-bbd8-c538d7541b48",
   "metadata": {},
   "outputs": [
    {
     "data": {
      "text/html": [
       "<div>\n",
       "<style scoped>\n",
       "    .dataframe tbody tr th:only-of-type {\n",
       "        vertical-align: middle;\n",
       "    }\n",
       "\n",
       "    .dataframe tbody tr th {\n",
       "        vertical-align: top;\n",
       "    }\n",
       "\n",
       "    .dataframe thead th {\n",
       "        text-align: right;\n",
       "    }\n",
       "</style>\n",
       "<table border=\"1\" class=\"dataframe\">\n",
       "  <thead>\n",
       "    <tr style=\"text-align: right;\">\n",
       "      <th></th>\n",
       "      <th>Unnamed: 0</th>\n",
       "      <th>Unnamed: 0.1</th>\n",
       "      <th>Summary</th>\n",
       "      <th>Issue key</th>\n",
       "      <th>Issue id</th>\n",
       "      <th>Issue Type</th>\n",
       "      <th>Status</th>\n",
       "      <th>Project key</th>\n",
       "      <th>Project name</th>\n",
       "      <th>Project type</th>\n",
       "      <th>...</th>\n",
       "      <th>Resolved</th>\n",
       "      <th>Due date</th>\n",
       "      <th>Description</th>\n",
       "      <th>Unnamed: 27</th>\n",
       "      <th>created_Time</th>\n",
       "      <th>created_Date</th>\n",
       "      <th>last_Time</th>\n",
       "      <th>last_Date</th>\n",
       "      <th>duration</th>\n",
       "      <th>day_of_week</th>\n",
       "    </tr>\n",
       "  </thead>\n",
       "  <tbody>\n",
       "    <tr>\n",
       "      <th>0</th>\n",
       "      <td>0</td>\n",
       "      <td>1</td>\n",
       "      <td>MyGovernmentOnline.org - New Contact Request</td>\n",
       "      <td>MWS-123772</td>\n",
       "      <td>184523.0</td>\n",
       "      <td>Task</td>\n",
       "      <td>Acknowledged</td>\n",
       "      <td>MWS</td>\n",
       "      <td>MGO Website Support</td>\n",
       "      <td>software</td>\n",
       "      <td>...</td>\n",
       "      <td>NaN</td>\n",
       "      <td>NaN</td>\n",
       "      <td>MyGovernmentOnline.org\\n\\nNew Contact Request\\...</td>\n",
       "      <td>NaN</td>\n",
       "      <td>19:26:00</td>\n",
       "      <td>2022-10-25</td>\n",
       "      <td>NaN</td>\n",
       "      <td>NaN</td>\n",
       "      <td>NaN</td>\n",
       "      <td>Tuesday</td>\n",
       "    </tr>\n",
       "    <tr>\n",
       "      <th>1</th>\n",
       "      <td>1</td>\n",
       "      <td>2</td>\n",
       "      <td>MyGovernmentOnline.org - New Contact Request</td>\n",
       "      <td>MWS-123771</td>\n",
       "      <td>184522.0</td>\n",
       "      <td>Task</td>\n",
       "      <td>Acknowledged</td>\n",
       "      <td>MWS</td>\n",
       "      <td>MGO Website Support</td>\n",
       "      <td>software</td>\n",
       "      <td>...</td>\n",
       "      <td>NaN</td>\n",
       "      <td>NaN</td>\n",
       "      <td>MyGovernmentOnline.org\\n\\nNew Contact Request\\...</td>\n",
       "      <td>NaN</td>\n",
       "      <td>18:34:00</td>\n",
       "      <td>2022-10-25</td>\n",
       "      <td>NaN</td>\n",
       "      <td>NaN</td>\n",
       "      <td>NaN</td>\n",
       "      <td>Tuesday</td>\n",
       "    </tr>\n",
       "    <tr>\n",
       "      <th>2</th>\n",
       "      <td>2</td>\n",
       "      <td>3</td>\n",
       "      <td>MyGovernmentOnline.org - New Contact Request</td>\n",
       "      <td>MWS-123770</td>\n",
       "      <td>184521.0</td>\n",
       "      <td>Task</td>\n",
       "      <td>Acknowledged</td>\n",
       "      <td>MWS</td>\n",
       "      <td>MGO Website Support</td>\n",
       "      <td>software</td>\n",
       "      <td>...</td>\n",
       "      <td>NaN</td>\n",
       "      <td>NaN</td>\n",
       "      <td>MyGovernmentOnline.org\\n\\nNew Contact Request\\...</td>\n",
       "      <td>NaN</td>\n",
       "      <td>18:14:00</td>\n",
       "      <td>2022-10-25</td>\n",
       "      <td>NaN</td>\n",
       "      <td>NaN</td>\n",
       "      <td>NaN</td>\n",
       "      <td>Tuesday</td>\n",
       "    </tr>\n",
       "    <tr>\n",
       "      <th>3</th>\n",
       "      <td>3</td>\n",
       "      <td>4</td>\n",
       "      <td>MyGovernmentOnline.org - New Contact Request</td>\n",
       "      <td>MWS-123769</td>\n",
       "      <td>184520.0</td>\n",
       "      <td>Task</td>\n",
       "      <td>Acknowledged</td>\n",
       "      <td>MWS</td>\n",
       "      <td>MGO Website Support</td>\n",
       "      <td>software</td>\n",
       "      <td>...</td>\n",
       "      <td>NaN</td>\n",
       "      <td>NaN</td>\n",
       "      <td>MyGovernmentOnline.org\\n\\nNew Contact Request\\...</td>\n",
       "      <td>NaN</td>\n",
       "      <td>17:42:00</td>\n",
       "      <td>2022-10-25</td>\n",
       "      <td>NaN</td>\n",
       "      <td>NaN</td>\n",
       "      <td>NaN</td>\n",
       "      <td>Tuesday</td>\n",
       "    </tr>\n",
       "    <tr>\n",
       "      <th>4</th>\n",
       "      <td>4</td>\n",
       "      <td>5</td>\n",
       "      <td>MyGovernmentOnline.org - New Contact Request</td>\n",
       "      <td>MWS-123768</td>\n",
       "      <td>184518.0</td>\n",
       "      <td>Task</td>\n",
       "      <td>Acknowledged</td>\n",
       "      <td>MWS</td>\n",
       "      <td>MGO Website Support</td>\n",
       "      <td>software</td>\n",
       "      <td>...</td>\n",
       "      <td>NaN</td>\n",
       "      <td>NaN</td>\n",
       "      <td>MyGovernmentOnline.org\\n\\nNew Contact Request\\...</td>\n",
       "      <td>NaN</td>\n",
       "      <td>16:58:00</td>\n",
       "      <td>2022-10-25</td>\n",
       "      <td>NaN</td>\n",
       "      <td>NaN</td>\n",
       "      <td>NaN</td>\n",
       "      <td>Tuesday</td>\n",
       "    </tr>\n",
       "  </tbody>\n",
       "</table>\n",
       "<p>5 rows × 35 columns</p>\n",
       "</div>"
      ],
      "text/plain": [
       "   Unnamed: 0 Unnamed: 0.1                                       Summary  \\\n",
       "0           0            1  MyGovernmentOnline.org - New Contact Request   \n",
       "1           1            2  MyGovernmentOnline.org - New Contact Request   \n",
       "2           2            3  MyGovernmentOnline.org - New Contact Request   \n",
       "3           3            4  MyGovernmentOnline.org - New Contact Request   \n",
       "4           4            5  MyGovernmentOnline.org - New Contact Request   \n",
       "\n",
       "    Issue key  Issue id Issue Type        Status Project key  \\\n",
       "0  MWS-123772  184523.0       Task  Acknowledged         MWS   \n",
       "1  MWS-123771  184522.0       Task  Acknowledged         MWS   \n",
       "2  MWS-123770  184521.0       Task  Acknowledged         MWS   \n",
       "3  MWS-123769  184520.0       Task  Acknowledged         MWS   \n",
       "4  MWS-123768  184518.0       Task  Acknowledged         MWS   \n",
       "\n",
       "          Project name Project type  ... Resolved Due date  \\\n",
       "0  MGO Website Support     software  ...      NaN      NaN   \n",
       "1  MGO Website Support     software  ...      NaN      NaN   \n",
       "2  MGO Website Support     software  ...      NaN      NaN   \n",
       "3  MGO Website Support     software  ...      NaN      NaN   \n",
       "4  MGO Website Support     software  ...      NaN      NaN   \n",
       "\n",
       "                                         Description  Unnamed: 27  \\\n",
       "0  MyGovernmentOnline.org\\n\\nNew Contact Request\\...          NaN   \n",
       "1  MyGovernmentOnline.org\\n\\nNew Contact Request\\...          NaN   \n",
       "2  MyGovernmentOnline.org\\n\\nNew Contact Request\\...          NaN   \n",
       "3  MyGovernmentOnline.org\\n\\nNew Contact Request\\...          NaN   \n",
       "4  MyGovernmentOnline.org\\n\\nNew Contact Request\\...          NaN   \n",
       "\n",
       "  created_Time created_Date last_Time last_Date duration day_of_week  \n",
       "0     19:26:00   2022-10-25       NaN       NaN      NaN     Tuesday  \n",
       "1     18:34:00   2022-10-25       NaN       NaN      NaN     Tuesday  \n",
       "2     18:14:00   2022-10-25       NaN       NaN      NaN     Tuesday  \n",
       "3     17:42:00   2022-10-25       NaN       NaN      NaN     Tuesday  \n",
       "4     16:58:00   2022-10-25       NaN       NaN      NaN     Tuesday  \n",
       "\n",
       "[5 rows x 35 columns]"
      ]
     },
     "execution_count": 5,
     "metadata": {},
     "output_type": "execute_result"
    }
   ],
   "source": [
    "data_all.head(5)"
   ]
  },
  {
   "cell_type": "markdown",
   "id": "0924bc95-b404-4d23-b953-b817aa518c3e",
   "metadata": {},
   "source": [
    "Removing all the Unnecessary Columns"
   ]
  },
  {
   "cell_type": "code",
   "execution_count": 6,
   "id": "e3cdb294-b5e9-4f99-b39a-8aaf4b9baa5b",
   "metadata": {},
   "outputs": [],
   "source": [
    "data_all.drop(['Unnamed: 0', 'Unnamed: 0.1','Unnamed: 27','Summary','Issue Type','Project key', 'Project name', 'Project type',\n",
    "       'Project lead', 'Project lead id','Assignee', 'Assignee Id', 'Reporter',\n",
    "       'Reporter Id', 'Creator', 'Creator Id','Project url', 'Priority'] , axis = 1, inplace = True)"
   ]
  },
  {
   "cell_type": "code",
   "execution_count": 7,
   "id": "349d94f1-1d48-4e4e-a548-e4c20be8b470",
   "metadata": {},
   "outputs": [
    {
     "name": "stdout",
     "output_type": "stream",
     "text": [
      "Index(['Issue key', 'Issue id', 'Status', 'Project description', 'Resolution',\n",
      "       'Created', 'Updated', 'Last Viewed', 'Resolved', 'Due date',\n",
      "       'Description', 'created_Time', 'created_Date', 'last_Time', 'last_Date',\n",
      "       'duration', 'day_of_week'],\n",
      "      dtype='object')\n"
     ]
    }
   ],
   "source": [
    "print(data_all.columns)"
   ]
  },
  {
   "cell_type": "code",
   "execution_count": 8,
   "id": "116dc45d-a34f-47c8-9a1c-9784bc15a8a8",
   "metadata": {},
   "outputs": [
    {
     "data": {
      "text/html": [
       "<div>\n",
       "<style scoped>\n",
       "    .dataframe tbody tr th:only-of-type {\n",
       "        vertical-align: middle;\n",
       "    }\n",
       "\n",
       "    .dataframe tbody tr th {\n",
       "        vertical-align: top;\n",
       "    }\n",
       "\n",
       "    .dataframe thead th {\n",
       "        text-align: right;\n",
       "    }\n",
       "</style>\n",
       "<table border=\"1\" class=\"dataframe\">\n",
       "  <thead>\n",
       "    <tr style=\"text-align: right;\">\n",
       "      <th></th>\n",
       "      <th>Issue key</th>\n",
       "      <th>Issue id</th>\n",
       "      <th>Status</th>\n",
       "      <th>Project description</th>\n",
       "      <th>Resolution</th>\n",
       "      <th>Created</th>\n",
       "      <th>Updated</th>\n",
       "      <th>Last Viewed</th>\n",
       "      <th>Resolved</th>\n",
       "      <th>Due date</th>\n",
       "      <th>Description</th>\n",
       "      <th>created_Time</th>\n",
       "      <th>created_Date</th>\n",
       "      <th>last_Time</th>\n",
       "      <th>last_Date</th>\n",
       "      <th>duration</th>\n",
       "      <th>day_of_week</th>\n",
       "    </tr>\n",
       "  </thead>\n",
       "  <tbody>\n",
       "    <tr>\n",
       "      <th>0</th>\n",
       "      <td>MWS-123772</td>\n",
       "      <td>184523.0</td>\n",
       "      <td>Acknowledged</td>\n",
       "      <td>receives all form mail from the mygovernmenton...</td>\n",
       "      <td>NaN</td>\n",
       "      <td>2022-10-25 19:26:00</td>\n",
       "      <td>10/25/22 19:26</td>\n",
       "      <td>2022-10-25 20:14:00</td>\n",
       "      <td>NaN</td>\n",
       "      <td>NaN</td>\n",
       "      <td>MyGovernmentOnline.org\\n\\nNew Contact Request\\...</td>\n",
       "      <td>19:26:00</td>\n",
       "      <td>2022-10-25</td>\n",
       "      <td>NaN</td>\n",
       "      <td>NaN</td>\n",
       "      <td>NaN</td>\n",
       "      <td>Tuesday</td>\n",
       "    </tr>\n",
       "    <tr>\n",
       "      <th>1</th>\n",
       "      <td>MWS-123771</td>\n",
       "      <td>184522.0</td>\n",
       "      <td>Acknowledged</td>\n",
       "      <td>receives all form mail from the mygovernmenton...</td>\n",
       "      <td>NaN</td>\n",
       "      <td>2022-10-25 18:34:00</td>\n",
       "      <td>10/25/22 18:34</td>\n",
       "      <td>2022-10-25 20:14:00</td>\n",
       "      <td>NaN</td>\n",
       "      <td>NaN</td>\n",
       "      <td>MyGovernmentOnline.org\\n\\nNew Contact Request\\...</td>\n",
       "      <td>18:34:00</td>\n",
       "      <td>2022-10-25</td>\n",
       "      <td>NaN</td>\n",
       "      <td>NaN</td>\n",
       "      <td>NaN</td>\n",
       "      <td>Tuesday</td>\n",
       "    </tr>\n",
       "    <tr>\n",
       "      <th>2</th>\n",
       "      <td>MWS-123770</td>\n",
       "      <td>184521.0</td>\n",
       "      <td>Acknowledged</td>\n",
       "      <td>receives all form mail from the mygovernmenton...</td>\n",
       "      <td>NaN</td>\n",
       "      <td>2022-10-25 18:14:00</td>\n",
       "      <td>10/25/22 18:14</td>\n",
       "      <td>2022-10-25 20:14:00</td>\n",
       "      <td>NaN</td>\n",
       "      <td>NaN</td>\n",
       "      <td>MyGovernmentOnline.org\\n\\nNew Contact Request\\...</td>\n",
       "      <td>18:14:00</td>\n",
       "      <td>2022-10-25</td>\n",
       "      <td>NaN</td>\n",
       "      <td>NaN</td>\n",
       "      <td>NaN</td>\n",
       "      <td>Tuesday</td>\n",
       "    </tr>\n",
       "    <tr>\n",
       "      <th>3</th>\n",
       "      <td>MWS-123769</td>\n",
       "      <td>184520.0</td>\n",
       "      <td>Acknowledged</td>\n",
       "      <td>receives all form mail from the mygovernmenton...</td>\n",
       "      <td>NaN</td>\n",
       "      <td>2022-10-25 17:42:00</td>\n",
       "      <td>10/25/22 17:42</td>\n",
       "      <td>2022-10-25 20:14:00</td>\n",
       "      <td>NaN</td>\n",
       "      <td>NaN</td>\n",
       "      <td>MyGovernmentOnline.org\\n\\nNew Contact Request\\...</td>\n",
       "      <td>17:42:00</td>\n",
       "      <td>2022-10-25</td>\n",
       "      <td>NaN</td>\n",
       "      <td>NaN</td>\n",
       "      <td>NaN</td>\n",
       "      <td>Tuesday</td>\n",
       "    </tr>\n",
       "    <tr>\n",
       "      <th>4</th>\n",
       "      <td>MWS-123768</td>\n",
       "      <td>184518.0</td>\n",
       "      <td>Acknowledged</td>\n",
       "      <td>receives all form mail from the mygovernmenton...</td>\n",
       "      <td>NaN</td>\n",
       "      <td>2022-10-25 16:58:00</td>\n",
       "      <td>10/25/22 16:58</td>\n",
       "      <td>2022-10-25 20:14:00</td>\n",
       "      <td>NaN</td>\n",
       "      <td>NaN</td>\n",
       "      <td>MyGovernmentOnline.org\\n\\nNew Contact Request\\...</td>\n",
       "      <td>16:58:00</td>\n",
       "      <td>2022-10-25</td>\n",
       "      <td>NaN</td>\n",
       "      <td>NaN</td>\n",
       "      <td>NaN</td>\n",
       "      <td>Tuesday</td>\n",
       "    </tr>\n",
       "  </tbody>\n",
       "</table>\n",
       "</div>"
      ],
      "text/plain": [
       "    Issue key  Issue id        Status  \\\n",
       "0  MWS-123772  184523.0  Acknowledged   \n",
       "1  MWS-123771  184522.0  Acknowledged   \n",
       "2  MWS-123770  184521.0  Acknowledged   \n",
       "3  MWS-123769  184520.0  Acknowledged   \n",
       "4  MWS-123768  184518.0  Acknowledged   \n",
       "\n",
       "                                 Project description Resolution  \\\n",
       "0  receives all form mail from the mygovernmenton...        NaN   \n",
       "1  receives all form mail from the mygovernmenton...        NaN   \n",
       "2  receives all form mail from the mygovernmenton...        NaN   \n",
       "3  receives all form mail from the mygovernmenton...        NaN   \n",
       "4  receives all form mail from the mygovernmenton...        NaN   \n",
       "\n",
       "               Created         Updated          Last Viewed Resolved  \\\n",
       "0  2022-10-25 19:26:00  10/25/22 19:26  2022-10-25 20:14:00      NaN   \n",
       "1  2022-10-25 18:34:00  10/25/22 18:34  2022-10-25 20:14:00      NaN   \n",
       "2  2022-10-25 18:14:00  10/25/22 18:14  2022-10-25 20:14:00      NaN   \n",
       "3  2022-10-25 17:42:00  10/25/22 17:42  2022-10-25 20:14:00      NaN   \n",
       "4  2022-10-25 16:58:00  10/25/22 16:58  2022-10-25 20:14:00      NaN   \n",
       "\n",
       "   Due date                                        Description created_Time  \\\n",
       "0       NaN  MyGovernmentOnline.org\\n\\nNew Contact Request\\...     19:26:00   \n",
       "1       NaN  MyGovernmentOnline.org\\n\\nNew Contact Request\\...     18:34:00   \n",
       "2       NaN  MyGovernmentOnline.org\\n\\nNew Contact Request\\...     18:14:00   \n",
       "3       NaN  MyGovernmentOnline.org\\n\\nNew Contact Request\\...     17:42:00   \n",
       "4       NaN  MyGovernmentOnline.org\\n\\nNew Contact Request\\...     16:58:00   \n",
       "\n",
       "  created_Date last_Time last_Date duration day_of_week  \n",
       "0   2022-10-25       NaN       NaN      NaN     Tuesday  \n",
       "1   2022-10-25       NaN       NaN      NaN     Tuesday  \n",
       "2   2022-10-25       NaN       NaN      NaN     Tuesday  \n",
       "3   2022-10-25       NaN       NaN      NaN     Tuesday  \n",
       "4   2022-10-25       NaN       NaN      NaN     Tuesday  "
      ]
     },
     "execution_count": 8,
     "metadata": {},
     "output_type": "execute_result"
    }
   ],
   "source": [
    "data_all.head(5)"
   ]
  },
  {
   "cell_type": "markdown",
   "id": "7d88c2d8-9f9d-4abb-8546-ebaa90ac4518",
   "metadata": {},
   "source": [
    "Description Column Cleaning"
   ]
  },
  {
   "cell_type": "code",
   "execution_count": null,
   "id": "23621f94-74b9-4d03-98f2-d3b3f7f83552",
   "metadata": {},
   "outputs": [],
   "source": [
    "#Converting all words to lowercase\n",
    "#r'\\n': to remove \"line seperators\", r'\\r': to remove \"tabs\"\n",
    "data_all['lower_description'] = data_all['Description'].str.lower().replace(r'\\n',' ', regex=True).replace(r'\\r',' ', regex=True)\n",
    "print(data_all['lower_description'].head(10))"
   ]
  },
  {
   "cell_type": "code",
   "execution_count": 10,
   "id": "43f620bf-d394-4a49-a56b-5da0a75fe2dc",
   "metadata": {},
   "outputs": [
    {
     "name": "stdout",
     "output_type": "stream",
     "text": [
      "mygovernmentonline.org  new contact request  time sent: 10/13/2022 11:11:57 am  name: cindy p crumholt  e-mail: cindy@jreedconstructors.com  phone: 2252018826  subject: new email address  message:  i have a new email address. how do i change it to cindy@jreedconstructors.net? thank you, cindy [created via e-mail received from: no-reply@mygovernmentonline.org]\n"
     ]
    }
   ],
   "source": [
    "print(data_all['lower_description'][700])"
   ]
  },
  {
   "cell_type": "code",
   "execution_count": 11,
   "id": "065e0ffe-cf2b-4eb4-b3eb-af9593a3c2e2",
   "metadata": {},
   "outputs": [],
   "source": [
    "#declaring an empty column\n",
    "data_all['names'] = \"\""
   ]
  },
  {
   "cell_type": "code",
   "execution_count": null,
   "id": "d40d0ff4-135c-479b-9549-0d12f03339ee",
   "metadata": {},
   "outputs": [],
   "source": [
    "#Getting the names of all the customers\n",
    "names = []\n",
    "for col in data_all['lower_description']:\n",
    "    text = str(col)\n",
    "    if 'name:' in text:\n",
    "        left = 'name: '\n",
    "    elif 'name:' not in text:\n",
    "        name = 'NaN'\n",
    "        continue\n",
    "    if '  e-mail:' in text:       \n",
    "        right = '  e-mail:'\n",
    "    elif '  e-mail:' not in text:\n",
    "        continue\n",
    "    name = text[text.index(left)+len(left):text.index(right)]     \n",
    "    names.append(name)\n",
    "print(names)"
   ]
  },
  {
   "cell_type": "code",
   "execution_count": 13,
   "id": "951cad36-ac56-4c23-ac3a-9247f005d87e",
   "metadata": {},
   "outputs": [
    {
     "name": "stdout",
     "output_type": "stream",
     "text": [
      "36676\n"
     ]
    }
   ],
   "source": [
    "print(len(names))"
   ]
  },
  {
   "cell_type": "code",
   "execution_count": 14,
   "id": "c347e71c-325f-4842-af39-0d0e5bdd823e",
   "metadata": {},
   "outputs": [
    {
     "name": "stderr",
     "output_type": "stream",
     "text": [
      "/tmp/ipykernel_59/3023709651.py:1: FutureWarning: The default value of regex will change from True to False in a future version.\n",
      "  data_all['lower_clean_description'] = data_all['lower_description'].str.replace('http\\S+|www.\\S+', '', case=False)\n"
     ]
    }
   ],
   "source": [
    "#Removing Https: links\n",
    "data_all['lower_clean_description'] = data_all['lower_description'].str.replace('http\\S+|www.\\S+', '', case=False)"
   ]
  },
  {
   "cell_type": "code",
   "execution_count": 15,
   "id": "58e48e94-db3f-4569-b8ba-374befb2276f",
   "metadata": {},
   "outputs": [
    {
     "name": "stdout",
     "output_type": "stream",
     "text": [
      "      from: orlando rodriguez <orodriguez@pbstownhall.org> sent: thursday, october 13, 2022 2:40 pm to: mygovernmentonline support <support@mygovernmentonline.org> subject: mgo connect live national 2022     good afternoon,     if still available, i would like to attend the conference.     my name is orlando rodriguez.       thank you,      orlando rodriguez     code enforcement officer  building department clerk  crs coordinator   grants coordinator  floodplain coordinator     town of palm beach shores  247 edwards lane  palm beach shores, fl 33404  phone:  561-844-3457     cell:  772-302-6485     [1] ---------------------------------------------------------------------------------------- [1]  [created via e-mail received from: mygovernmentonline support <support@mygovernmentonline.org>]\n"
     ]
    }
   ],
   "source": [
    "print(data_all.lower_clean_description[19])"
   ]
  },
  {
   "cell_type": "code",
   "execution_count": 16,
   "id": "2a5bb621-784b-4147-a932-1539d9629ebe",
   "metadata": {},
   "outputs": [
    {
     "name": "stderr",
     "output_type": "stream",
     "text": [
      "/tmp/ipykernel_59/1450204126.py:1: FutureWarning: The default value of regex will change from True to False in a future version.\n",
      "  data_all['lower_clean_char_description'] = data_all['lower_clean_description'].str.replace('(@\\[A-Za-z0-9]+)|([^0-9A-Za-z \\t])',\" \")\n"
     ]
    }
   ],
   "source": [
    "#Removing all special characters\n",
    "data_all['lower_clean_char_description'] = data_all['lower_clean_description'].str.replace('(@\\[A-Za-z0-9]+)|([^0-9A-Za-z \\t])',\" \")"
   ]
  },
  {
   "cell_type": "code",
   "execution_count": 17,
   "id": "9fe3bd80-6301-434f-834b-9fbf947241de",
   "metadata": {},
   "outputs": [
    {
     "name": "stdout",
     "output_type": "stream",
     "text": [
      "0    mygovernmentonline org  new contact request  t...\n",
      "1    mygovernmentonline org  new contact request  t...\n",
      "2    mygovernmentonline org  new contact request  t...\n",
      "3    mygovernmentonline org  new contact request  t...\n",
      "4    mygovernmentonline org  new contact request  t...\n",
      "5    hi todd     please remove the existing permit ...\n",
      "6    mygovernmentonline org  new contact request  t...\n",
      "7    mygovernmentonline org  new contact request  t...\n",
      "8    please review the following report and ensure ...\n",
      "9    good afternoon     can we remove ossf from any...\n",
      "Name: lower_clean_char_description, dtype: object\n"
     ]
    }
   ],
   "source": [
    "print(data_all.lower_clean_char_description.head(10))"
   ]
  },
  {
   "cell_type": "code",
   "execution_count": 18,
   "id": "65137869-ecab-44a0-bc84-bd6ec8496107",
   "metadata": {},
   "outputs": [
    {
     "data": {
      "text/plain": [
       "'hi todd     please remove the existing permit templates and replace with these new templates we have a new county engineer  if you need anything else please let me know     thank you       odalis garcia  engineering  administrative assistant   bastrop county  211 jackson st   bastrop  tx 78602  512 581 4077   odalis garcia co bastrop tx us        cid image001 jpg 01d8e88f 097a5890                confidentiality notice       this e mail communication may contain confidential information belonging to the sender that is legally privileged   this information is intended only for the use of the individual or entity named above   the authorized recipient of this information is prohibited from disclosing this information to any other party and is required to destroy the information after its stated need has been fulfilled  unless otherwise required by state law     if you are not the intended recipient  you are hereby notified that any disclosure  copying  distribution  or action taken in reliance on the contents of this document is strictly prohibited   if you have received this in error  please notify the sender immediately by return e mail or by phone  512  581 7120   delete all copies of this e mail  including all attachments  without reading them or saving them to your computer or any attached storage device  if you are the intended recipient  you will need to secure the contents conforming to all applicable state and or federal requirements related to the privacy and confidentiality of such information  including the hipaa privacy guidelines   created via e mail received from  odalis garcia  odalis garcia co bastrop tx us  '"
      ]
     },
     "execution_count": 18,
     "metadata": {},
     "output_type": "execute_result"
    }
   ],
   "source": [
    "#Checking if there's anything else to clean\n",
    "data_all.lower_clean_char_description[5]"
   ]
  },
  {
   "cell_type": "code",
   "execution_count": 19,
   "id": "6eff758a-e0f6-4d8d-88c8-9ee9cb83e8c8",
   "metadata": {},
   "outputs": [
    {
     "name": "stdout",
     "output_type": "stream",
     "text": [
      "93967\n"
     ]
    }
   ],
   "source": [
    "print(len(data_all.lower_clean_char_description))"
   ]
  },
  {
   "cell_type": "code",
   "execution_count": 20,
   "id": "ba4519c0-9b30-48a0-9cad-7345f700ee92",
   "metadata": {},
   "outputs": [
    {
     "name": "stdout",
     "output_type": "stream",
     "text": [
      "0     mygovernmentonline org  new contact request  t...\n",
      "1     mygovernmentonline org  new contact request  t...\n",
      "2     mygovernmentonline org  new contact request  t...\n",
      "3     mygovernmentonline org  new contact request  t...\n",
      "4     mygovernmentonline org  new contact request  t...\n",
      "5     hi todd     please remove the existing permit ...\n",
      "6     mygovernmentonline org  new contact request  t...\n",
      "7     mygovernmentonline org  new contact request  t...\n",
      "8     please review the following report and ensure ...\n",
      "9     good afternoon     can we remove ossf from any...\n",
      "10    mygovernmentonline org  new contact request  t...\n",
      "11    the following permit types should not be displ...\n",
      "12    for building projects there is a tab that show...\n",
      "13    brad baker is in our admin department  he need...\n",
      "14    mygovernmentonline org  new contact request  t...\n",
      "15    when a 15 day letter is generated  the inspect...\n",
      "16    mygovernmentonline org  new contact request  t...\n",
      "17    good afternoon     please remove the user shan...\n",
      "18    please create an auto complete requirement cal...\n",
      "19          from  orlando rodriguez  orodriguez pbst...\n",
      "Name: lower_clean_char_description, dtype: object\n"
     ]
    }
   ],
   "source": [
    "#Converting the col into a string type\n",
    "data_all['lower_clean_char_description'] = data_all['lower_clean_char_description'].astype(str)\n",
    "print(data_all.lower_clean_char_description.head(20))"
   ]
  },
  {
   "cell_type": "code",
   "execution_count": 21,
   "id": "e67777a2-8c66-4d1f-8919-486ee202a4ed",
   "metadata": {},
   "outputs": [],
   "source": [
    "#Removing everything before the word \"message\" in all the tickets\n",
    "num = 0\n",
    "for i in range(93967):\n",
    "    index = data_all.lower_clean_char_description[num].find('message') #stores the index of a substring or char\n",
    "    new_d = data_all.lower_clean_char_description[num][index:] #returns the chars after the seen char or substring\n",
    "    data_all.at[num,'lower_clean_char_description'] = new_d\n",
    "    num += 1"
   ]
  },
  {
   "cell_type": "code",
   "execution_count": 22,
   "id": "157f01f2-c044-48a7-bc73-0f280f547224",
   "metadata": {},
   "outputs": [
    {
     "name": "stdout",
     "output_type": "stream",
     "text": [
      "93967\n"
     ]
    }
   ],
   "source": [
    "print(len(data_all.lower_clean_char_description))"
   ]
  },
  {
   "cell_type": "code",
   "execution_count": 23,
   "id": "2de5dada-05a0-42c9-a752-be6dfd2051d2",
   "metadata": {},
   "outputs": [
    {
     "name": "stdout",
     "output_type": "stream",
     "text": [
      "0    message   i live in austin tx based on my addr...\n",
      "1    message   i already have an account  how do i ...\n",
      "2    message   please let us know where we send the...\n",
      "3    message   i have a noc that is not appearing a...\n",
      "4    message   i have fixed the problem swepco said...\n",
      "5                                                     \n",
      "6    message   hello  i would like to know how to g...\n",
      "7    message   hello  this is tanzil from green lea...\n",
      "8                                                     \n",
      "9                                                     \n",
      "Name: lower_clean_char_description, dtype: object\n"
     ]
    }
   ],
   "source": [
    "print(data_all.lower_clean_char_description.head(10))"
   ]
  },
  {
   "cell_type": "code",
   "execution_count": 24,
   "id": "74783690-7681-40d0-bca1-51b10cc3d88c",
   "metadata": {},
   "outputs": [],
   "source": [
    "num = 0\n",
    "for i in range(len(data_all.lower_clean_char_description)):\n",
    "    index = data_all.lower_clean_char_description[num].find('created') #stores the index of a substring or char\n",
    "    new_d = data_all.lower_clean_char_description[num][:index] #returns the chars before the seen char or substring\n",
    "    data_all.at[num,'lower_clean_char_description'] = new_d\n",
    "    num += 1\n",
    "   "
   ]
  },
  {
   "cell_type": "code",
   "execution_count": 25,
   "id": "4611fc40-024f-4550-a7b8-e0d6033f62ab",
   "metadata": {},
   "outputs": [
    {
     "name": "stdout",
     "output_type": "stream",
     "text": [
      "0     message   i live in austin tx based on my addr...\n",
      "1     message   i already have an account  how do i ...\n",
      "2     message   please let us know where we send the...\n",
      "3     message   i have a noc that is not appearing a...\n",
      "4     message   i have fixed the problem swepco said...\n",
      "5                                                      \n",
      "6     message   hello  i would like to know how to g...\n",
      "7     message   hello  this is tanzil from green lea...\n",
      "8                                                      \n",
      "9                                                      \n",
      "10    message   lago vista is a bit cryptic in their...\n",
      "11                                                     \n",
      "12                                                     \n",
      "13                                                     \n",
      "14    message   at the palace theater we are adding ...\n",
      "15                                                     \n",
      "16                message   for chambers county texas  \n",
      "17                                                     \n",
      "18                                                     \n",
      "19                                                     \n",
      "Name: lower_clean_char_description, dtype: object\n"
     ]
    }
   ],
   "source": [
    "print(data_all.lower_clean_char_description.head(20))"
   ]
  },
  {
   "cell_type": "code",
   "execution_count": 26,
   "id": "4c84fdfa-7fe1-455e-b4f4-eb2a87528a5b",
   "metadata": {},
   "outputs": [
    {
     "name": "stdout",
     "output_type": "stream",
     "text": [
      "65650       i am currently working on two restaurants t...\n",
      "46828     and delete the original and all copies of the...\n",
      "92594       i made the application  got feedback  made ...\n",
      "84454       i need assistance on how to apply for a per...\n",
      "74402       do i need a permit for replacing a new two ...\n",
      "                               ...                        \n",
      "76149       how do i get my permits to show up on myper...\n",
      "47850                                                     \n",
      "76882       hi   i see on the  requirements  page that ...\n",
      "5993        once we got our permit our clients decided ...\n",
      "28973       good afternoon  i have requested to extend ...\n",
      "Name: clean_des_col, Length: 100, dtype: object\n"
     ]
    }
   ],
   "source": [
    "#Removing the word \"message\"\n",
    "data_all['clean_des_col'] = data_all['lower_clean_char_description'].str.replace('message', '')\n",
    "print(data_all.clean_des_col.sample(100))"
   ]
  },
  {
   "cell_type": "code",
   "execution_count": 27,
   "id": "4b143c6d-762d-443b-8c93-a70403dfb649",
   "metadata": {},
   "outputs": [
    {
     "name": "stdout",
     "output_type": "stream",
     "text": [
      "   new 09 08 2021 pensacola 21 453 robert smith  glenn  21 08 7282 4510 la jolla pensacola fl 32504 roof final inspection not assigned  111  222 3333 i need the above request deleted from my account  the inspector failed the inspection without even looking at the job  so  i resheduled it with a note to him  but he passed and closed the original request  now i cannot cancel this request in the system because he closed the permit out   \n"
     ]
    }
   ],
   "source": [
    "print(data_all.clean_des_col[20104])"
   ]
  },
  {
   "cell_type": "code",
   "execution_count": 28,
   "id": "0188db72-be0a-450c-ac30-f97c12e19892",
   "metadata": {},
   "outputs": [],
   "source": [
    "import numpy as np"
   ]
  },
  {
   "cell_type": "code",
   "execution_count": 29,
   "id": "f4534d48-987a-4730-a616-e4226921c200",
   "metadata": {},
   "outputs": [],
   "source": [
    "#Replacing all the empty rows with \"NaN\"\n",
    "data_all['clean_des_col_2'] = data_all['clean_des_col'].replace('', np.nan, regex=True)"
   ]
  },
  {
   "cell_type": "code",
   "execution_count": 30,
   "id": "4cda8d19-ad37-4c4e-ac7e-f14789c2871a",
   "metadata": {},
   "outputs": [
    {
     "name": "stdout",
     "output_type": "stream",
     "text": [
      "0        i live in austin tx based on my address but...\n",
      "1        i already have an account  how do i registe...\n",
      "2        please let us know where we send the docume...\n",
      "3        i have a noc that is not appearing and i wa...\n",
      "4        i have fixed the problem swepco said i had ...\n",
      "5                                                   NaN\n",
      "6        hello  i would like to know how to go about...\n",
      "7        hello  this is tanzil from green leaf air  ...\n",
      "8                                                   NaN\n",
      "9                                                   NaN\n",
      "10       lago vista is a bit cryptic in their in str...\n",
      "11                                                  NaN\n",
      "12                                                  NaN\n",
      "13                                                  NaN\n",
      "14       at the palace theater we are adding another...\n",
      "15                                                  NaN\n",
      "16                          for chambers county texas  \n",
      "17                                                  NaN\n",
      "18                                                  NaN\n",
      "19                                                  NaN\n",
      "20                                                  NaN\n",
      "21       hello we have a filled application for the ...\n",
      "22       hi my name is joy worthy  i m with kacy reg...\n",
      "23                                                  NaN\n",
      "24                                                  NaN\n",
      "25                                                  NaN\n",
      "26       can someone please contact me at 301 252 91...\n",
      "27                                                  NaN\n",
      "28                                                  NaN\n",
      "29                                                  NaN\n",
      "Name: clean_des_col_2, dtype: object\n"
     ]
    }
   ],
   "source": [
    "print(data_all.clean_des_col_2.head(30))"
   ]
  },
  {
   "cell_type": "code",
   "execution_count": 31,
   "id": "d40a796a-229c-4e29-beae-53c56fcea94f",
   "metadata": {},
   "outputs": [
    {
     "name": "stdout",
     "output_type": "stream",
     "text": [
      "nan\n"
     ]
    }
   ],
   "source": [
    "print(data_all['clean_des_col_2'][5])"
   ]
  },
  {
   "cell_type": "code",
   "execution_count": 32,
   "id": "b898cfd6-62e8-4f93-a8ad-e336e6e8ea3b",
   "metadata": {},
   "outputs": [
    {
     "name": "stdout",
     "output_type": "stream",
     "text": [
      "93967\n"
     ]
    }
   ],
   "source": [
    "print(len(data_all['clean_des_col_2']))"
   ]
  },
  {
   "cell_type": "code",
   "execution_count": 33,
   "id": "32cc34c2-b2f0-4148-9e24-55506230ef7f",
   "metadata": {},
   "outputs": [
    {
     "data": {
      "text/plain": [
       "52216"
      ]
     },
     "execution_count": 33,
     "metadata": {},
     "output_type": "execute_result"
    }
   ],
   "source": [
    "data_all['clean_des_col_2'].isnull().sum()"
   ]
  },
  {
   "cell_type": "code",
   "execution_count": 34,
   "id": "584e9823-c78f-429e-b0f7-8f9ac18a73d4",
   "metadata": {},
   "outputs": [],
   "source": [
    "df = data_all['clean_des_col_2']"
   ]
  },
  {
   "cell_type": "code",
   "execution_count": null,
   "id": "78e102fa-cece-410e-9727-db9ea7034880",
   "metadata": {},
   "outputs": [],
   "source": [
    "df.to_csv('MGOclean.csv')"
   ]
  },
  {
   "cell_type": "code",
   "execution_count": 35,
   "id": "5dd4838f-730a-412b-811c-64be45498cb0",
   "metadata": {},
   "outputs": [
    {
     "name": "stdout",
     "output_type": "stream",
     "text": [
      "0       i live in austin tx based on my address but...\n",
      "1       i already have an account  how do i registe...\n",
      "2       please let us know where we send the docume...\n",
      "3       i have a noc that is not appearing and i wa...\n",
      "4       i have fixed the problem swepco said i had ...\n",
      "5                                                  NaN\n",
      "6       hello  i would like to know how to go about...\n",
      "7       hello  this is tanzil from green leaf air  ...\n",
      "8                                                  NaN\n",
      "9                                                  NaN\n",
      "Name: clean_des_col_2, dtype: object\n"
     ]
    }
   ],
   "source": [
    "print(df.head(10))"
   ]
  },
  {
   "cell_type": "code",
   "execution_count": 36,
   "id": "11e56662-1271-4193-b8b9-9aaac3057934",
   "metadata": {},
   "outputs": [
    {
     "name": "stdout",
     "output_type": "stream",
     "text": [
      "   just \n"
     ]
    }
   ],
   "source": [
    "print(df[40339])"
   ]
  },
  {
   "cell_type": "code",
   "execution_count": 37,
   "id": "834b64b4-4f33-4b35-afb2-68ae156f9077",
   "metadata": {},
   "outputs": [],
   "source": [
    "#Dropping all the null values\n",
    "df2 = df.dropna()"
   ]
  },
  {
   "cell_type": "code",
   "execution_count": 38,
   "id": "e31a2e03-4268-4403-9a02-14afd79d2ea1",
   "metadata": {},
   "outputs": [
    {
     "name": "stdout",
     "output_type": "stream",
     "text": [
      "0        i live in austin tx based on my address but...\n",
      "1        i already have an account  how do i registe...\n",
      "2        please let us know where we send the docume...\n",
      "3        i have a noc that is not appearing and i wa...\n",
      "4        i have fixed the problem swepco said i had ...\n",
      "6        hello  i would like to know how to go about...\n",
      "7        hello  this is tanzil from green leaf air  ...\n",
      "10       lago vista is a bit cryptic in their in str...\n",
      "14       at the palace theater we are adding another...\n",
      "16                          for chambers county texas  \n",
      "21       hello we have a filled application for the ...\n",
      "22       hi my name is joy worthy  i m with kacy reg...\n",
      "26       can someone please contact me at 301 252 91...\n",
      "30       just got an email saying my permit was retu...\n",
      "34       hello  i have found the application to regi...\n",
      "Name: clean_des_col_2, dtype: object\n"
     ]
    }
   ],
   "source": [
    "print(df2.head(15))"
   ]
  },
  {
   "cell_type": "code",
   "execution_count": 39,
   "id": "ad259910-b3b9-41d0-9176-62cb7ae29ed3",
   "metadata": {},
   "outputs": [
    {
     "name": "stdout",
     "output_type": "stream",
     "text": [
      "0\n",
      "41751\n"
     ]
    }
   ],
   "source": [
    "print(df2.isnull().sum())\n",
    "print(len(df2))"
   ]
  },
  {
   "cell_type": "code",
   "execution_count": 42,
   "id": "4e7256af-e1fb-450a-8732-96e35d3e7497",
   "metadata": {},
   "outputs": [],
   "source": [
    "reviews = \" \".join(df2)"
   ]
  },
  {
   "cell_type": "code",
   "execution_count": 43,
   "id": "731e3341-cd5f-408b-a3fa-1e4e3887129e",
   "metadata": {},
   "outputs": [
    {
     "name": "stdout",
     "output_type": "stream",
     "text": [
      "12462559\n"
     ]
    }
   ],
   "source": [
    "print(len(reviews))"
   ]
  },
  {
   "cell_type": "code",
   "execution_count": 44,
   "id": "7fc7b422-233d-4065-8199-b398dfb7fdc3",
   "metadata": {},
   "outputs": [
    {
     "data": {
      "image/png": "[encoded data removed]",
      "text/plain": [
       "<Figure size 864x576 with 1 Axes>"
      ]
     },
     "metadata": {
      "needs_background": "light"
     },
     "output_type": "display_data"
    }
   ],
   "source": [
    "# Create the word cloud image\n",
    "word_cloud = WordCloud(background_color=\"white\",\n",
    "                       stopwords=ENGLISH_STOP_WORDS,\n",
    "                       width=800,\n",
    "                       height=400,\n",
    "                       max_words = 80\n",
    "                      )\n",
    "\n",
    "# Generate the word cloud using the review data\n",
    "word_cloud.generate(reviews)\n",
    "\n",
    "# Display the word cloud\n",
    "plt.rcParams[\"figure.figsize\"] = (12, 8)\n",
    "plt.imshow(word_cloud, interpolation=\"bilinear\")\n",
    "plt.axis(\"off\")\n",
    "plt.show()"
   ]
  },
  {
   "cell_type": "code",
   "execution_count": 45,
   "id": "83584dd4-d553-45af-b7e6-aa952a545bdc",
   "metadata": {},
   "outputs": [
    {
     "name": "stdout",
     "output_type": "stream",
     "text": [
      "15934\n",
      "10720\n",
      "10749\n",
      "5809\n",
      "5602\n"
     ]
    }
   ],
   "source": [
    "freq = word_cloud.process_text(reviews)\n",
    "print(freq[\"permit\"])\n",
    "print(freq[\"need\"])\n",
    "print(freq[\"thank\"])\n",
    "print(freq[\"application\"])\n",
    "print(freq[\"email\"])"
   ]
  },
  {
   "cell_type": "code",
   "execution_count": null,
   "id": "a200572b-84c6-4f85-94ce-8669e68c3d57",
   "metadata": {},
   "outputs": [],
   "source": [
    "sorted(freq, key=freq.get, reverse=True)"
   ]
  },
  {
   "cell_type": "code",
   "execution_count": 47,
   "id": "26d967ad-f319-4c28-ba5d-3bb2f8245701",
   "metadata": {},
   "outputs": [
    {
     "name": "stdout",
     "output_type": "stream",
     "text": [
      "0           i live in austin tx based on my address but...\n",
      "1           i already have an account  how do i registe...\n",
      "2           please let us know where we send the docume...\n",
      "3           i have a noc that is not appearing and i wa...\n",
      "4           i have fixed the problem swepco said i had ...\n",
      "                               ...                        \n",
      "93961       i need to have access to add a job and also...\n",
      "93962       the frame  rough electrical  rough mechanic...\n",
      "93963                                               test  \n",
      "93964         i tried to apply for a permit online for ...\n",
      "93965                                               test  \n",
      "Name: clean_des_col_2, Length: 41751, dtype: object\n"
     ]
    }
   ],
   "source": [
    "print(df2)"
   ]
  },
  {
   "cell_type": "code",
   "execution_count": 48,
   "id": "277126c2-b29e-4580-bf12-cc2530d85e91",
   "metadata": {},
   "outputs": [
    {
     "data": {
      "text/plain": [
       "Index(['Issue key', 'Issue id', 'Status', 'Project description', 'Resolution',\n",
       "       'Created', 'Updated', 'Last Viewed', 'Resolved', 'Due date',\n",
       "       'Description', 'created_Time', 'created_Date', 'last_Time', 'last_Date',\n",
       "       'duration', 'day_of_week', 'lower_description', 'names',\n",
       "       'lower_clean_description', 'lower_clean_char_description',\n",
       "       'clean_des_col', 'clean_des_col_2'],\n",
       "      dtype='object')"
      ]
     },
     "execution_count": 48,
     "metadata": {},
     "output_type": "execute_result"
    }
   ],
   "source": [
    "data_all.head(20)\n",
    "data_all.columns"
   ]
  },
  {
   "cell_type": "code",
   "execution_count": 53,
   "id": "cd2f7495-163f-415b-a204-b963c16a9539",
   "metadata": {},
   "outputs": [
    {
     "name": "stdout",
     "output_type": "stream",
     "text": [
      "<class 'pandas.core.frame.DataFrame'>\n",
      "RangeIndex: 93967 entries, 0 to 93966\n",
      "Data columns (total 23 columns):\n",
      " #   Column                        Non-Null Count  Dtype  \n",
      "---  ------                        --------------  -----  \n",
      " 0   Issue key                     93945 non-null  object \n",
      " 1   Issue id                      93945 non-null  float64\n",
      " 2   Status                        93945 non-null  object \n",
      " 3   Project description           93945 non-null  object \n",
      " 4   Resolution                    93337 non-null  object \n",
      " 5   Created                       93945 non-null  object \n",
      " 6   Updated                       93945 non-null  object \n",
      " 7   Last Viewed                   93945 non-null  object \n",
      " 8   Resolved                      93337 non-null  object \n",
      " 9   Due date                      0 non-null      float64\n",
      " 10  Description                   93802 non-null  object \n",
      " 11  created_Time                  93945 non-null  object \n",
      " 12  created_Date                  93945 non-null  object \n",
      " 13  last_Time                     93337 non-null  object \n",
      " 14  last_Date                     93337 non-null  object \n",
      " 15  duration                      93337 non-null  object \n",
      " 16  day_of_week                   93945 non-null  object \n",
      " 17  lower_description             93802 non-null  object \n",
      " 18  names                         93967 non-null  object \n",
      " 19  lower_clean_description       93802 non-null  object \n",
      " 20  lower_clean_char_description  93967 non-null  object \n",
      " 21  clean_des_col                 93967 non-null  object \n",
      " 22  clean_des_col_2               41751 non-null  object \n",
      "dtypes: float64(2), object(21)\n",
      "memory usage: 16.5+ MB\n"
     ]
    }
   ],
   "source": [
    "data_all.info()"
   ]
  },
  {
   "cell_type": "code",
   "execution_count": 54,
   "id": "56f060dd-bae9-4dae-9083-9a81bb56b336",
   "metadata": {},
   "outputs": [],
   "source": [
    "data_all.to_csv(\"cleandes.csv\")"
   ]
  }
 ],
 "metadata": {
  "kernelspec": {
   "display_name": "Python 3 (ipykernel)",
   "language": "python",
   "name": "python3"
  },
  "language_info": {
   "codemirror_mode": {
    "name": "ipython",
    "version": 3
   },
   "file_extension": ".py",
   "mimetype": "text/x-python",
   "name": "python",
   "nbconvert_exporter": "python",
   "pygments_lexer": "ipython3",
   "version": "3.8.13"
  },
  "widgets": {
   "application/vnd.jupyter.widget-state+json": {
    "state": {},
    "version_major": 2,
    "version_minor": 0
   }
  }
 },
 "nbformat": 4,
 "nbformat_minor": 5
}
