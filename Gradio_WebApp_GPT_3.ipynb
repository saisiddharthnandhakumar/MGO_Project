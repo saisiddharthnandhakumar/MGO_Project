{
 "cells": [
  {
   "cell_type": "code",
   "execution_count": 1,
   "id": "7491c825-55ef-41ad-9f38-46131d10da6b",
   "metadata": {},
   "outputs": [
    {
     "name": "stderr",
     "output_type": "stream",
     "text": [
      "C:\\Users\\gamer\\anaconda3\\envs\\BERTopic_DeepLearning\\lib\\site-packages\\tqdm\\auto.py:22: TqdmWarning: IProgress not found. Please update jupyter and ipywidgets. See https://ipywidgets.readthedocs.io/en/stable/user_install.html\n",
      "  from .autonotebook import tqdm as notebook_tqdm\n"
     ]
    }
   ],
   "source": [
    "import numpy as np\n",
    "import pandas as pd\n",
    "import gradio as gr"
   ]
  },
  {
   "cell_type": "code",
   "execution_count": 2,
   "id": "0cdbe7af-d151-4ec5-986b-c4a02718df77",
   "metadata": {},
   "outputs": [
    {
     "name": "stdout",
     "output_type": "stream",
     "text": [
      "Requirement already satisfied: openai in c:\\users\\gamer\\anaconda3\\envs\\bertopic_deeplearning\\lib\\site-packages (0.27.4)\n",
      "Requirement already satisfied: requests>=2.20 in c:\\users\\gamer\\anaconda3\\envs\\bertopic_deeplearning\\lib\\site-packages (from openai) (2.28.1)\n",
      "Requirement already satisfied: tqdm in c:\\users\\gamer\\anaconda3\\envs\\bertopic_deeplearning\\lib\\site-packages (from openai) (4.64.1)\n",
      "Requirement already satisfied: aiohttp in c:\\users\\gamer\\anaconda3\\envs\\bertopic_deeplearning\\lib\\site-packages (from openai) (3.8.4)\n",
      "Requirement already satisfied: charset-normalizer<3,>=2 in c:\\users\\gamer\\anaconda3\\envs\\bertopic_deeplearning\\lib\\site-packages (from requests>=2.20->openai) (2.0.4)\n",
      "Requirement already satisfied: idna<4,>=2.5 in c:\\users\\gamer\\anaconda3\\envs\\bertopic_deeplearning\\lib\\site-packages (from requests>=2.20->openai) (3.4)\n",
      "Requirement already satisfied: urllib3<1.27,>=1.21.1 in c:\\users\\gamer\\anaconda3\\envs\\bertopic_deeplearning\\lib\\site-packages (from requests>=2.20->openai) (1.26.14)\n",
      "Requirement already satisfied: certifi>=2017.4.17 in c:\\users\\gamer\\anaconda3\\envs\\bertopic_deeplearning\\lib\\site-packages (from requests>=2.20->openai) (2022.12.7)\n",
      "Requirement already satisfied: frozenlist>=1.1.1 in c:\\users\\gamer\\anaconda3\\envs\\bertopic_deeplearning\\lib\\site-packages (from aiohttp->openai) (1.3.3)\n",
      "Requirement already satisfied: aiosignal>=1.1.2 in c:\\users\\gamer\\anaconda3\\envs\\bertopic_deeplearning\\lib\\site-packages (from aiohttp->openai) (1.3.1)\n",
      "Requirement already satisfied: multidict<7.0,>=4.5 in c:\\users\\gamer\\anaconda3\\envs\\bertopic_deeplearning\\lib\\site-packages (from aiohttp->openai) (6.0.4)\n",
      "Requirement already satisfied: yarl<2.0,>=1.0 in c:\\users\\gamer\\anaconda3\\envs\\bertopic_deeplearning\\lib\\site-packages (from aiohttp->openai) (1.8.2)\n",
      "Requirement already satisfied: async-timeout<5.0,>=4.0.0a3 in c:\\users\\gamer\\anaconda3\\envs\\bertopic_deeplearning\\lib\\site-packages (from aiohttp->openai) (4.0.2)\n",
      "Requirement already satisfied: attrs>=17.3.0 in c:\\users\\gamer\\anaconda3\\envs\\bertopic_deeplearning\\lib\\site-packages (from aiohttp->openai) (22.1.0)\n",
      "Requirement already satisfied: colorama in c:\\users\\gamer\\anaconda3\\envs\\bertopic_deeplearning\\lib\\site-packages (from tqdm->openai) (0.4.6)\n",
      "Note: you may need to restart the kernel to use updated packages.\n"
     ]
    }
   ],
   "source": [
    "pip install openai"
   ]
  },
  {
   "cell_type": "code",
   "execution_count": 3,
   "id": "7c86a25f-b498-4098-b599-e71776d8e778",
   "metadata": {},
   "outputs": [],
   "source": [
    "def message_clean(msg):\n",
    "    index = msg.find('message') #stores the index of a substring or char\n",
    "    new_d = msg[index:] #returns the chars after the seen char or substring\n",
    "    return new_d"
   ]
  },
  {
   "cell_type": "code",
   "execution_count": 4,
   "id": "95a12b65-c78f-49c0-b426-36965958d0b6",
   "metadata": {},
   "outputs": [],
   "source": [
    "def created_clean(cre):\n",
    "    index = cre.find('created') #stores the index of a substring or char\n",
    "    new_d = cre[:index] #returns the chars before the seen char or substring\n",
    "    return new_d"
   ]
  },
  {
   "cell_type": "code",
   "execution_count": 5,
   "id": "6ed007b2-c1a2-4872-bf7a-e74f44f524d9",
   "metadata": {},
   "outputs": [],
   "source": [
    "import re\n",
    "import pandas as pd\n",
    "\n",
    "def preprocess(cust_message):\n",
    "    l_cust_message = cust_message.lower().replace('\\n', ' ').replace('\\r', ' ')\n",
    "    lc_cust_message = re.sub(r'@\\w+|\\bhttps?://\\S+', '', l_cust_message, flags=re.IGNORECASE)\n",
    "    lcs_cust_message = re.sub(r'(@[A-Za-z0-9]+)|([^0-9A-Za-z \\t])', ' ', lc_cust_message)\n",
    "    lcsm_message = message_clean(lcs_cust_message) # assuming this function exists\n",
    "    lcsmc_message = created_clean(lcsm_message) # assuming this function exists\n",
    "    prepro_message = lcsmc_message.replace('message', '')\n",
    "    if len(prepro_message) == 0:\n",
    "        return \"Not an MGO Question\"\n",
    "    else:\n",
    "        return prepro_message"
   ]
  },
  {
   "cell_type": "code",
   "execution_count": 6,
   "id": "546933a4-a96c-4c11-98b1-d31ff98b64f6",
   "metadata": {},
   "outputs": [],
   "source": [
    "hi = preprocess(\"mygovernmentonline.org  new contact request  time sent: 10/24/2022 11:59:09 pm  name: james roberts  e-mail: info@rnroof.com  phone: 9183137663  subject: right now roofing llc  message:  it has come to my attention that we might have two different accounts set up for right now roofing llc. how could i get this checked? and if we do somehow have two accounts, how would i get them merged into one? [created via e-mail received from: no-reply@mygovernmentonline.org]\")"
   ]
  },
  {
   "cell_type": "code",
   "execution_count": 7,
   "id": "b7a90597-a091-48bd-b1fe-eecb7c0545dd",
   "metadata": {},
   "outputs": [
    {
     "name": "stdout",
     "output_type": "stream",
     "text": [
      "Not an MGO Question\n"
     ]
    }
   ],
   "source": [
    "print(preprocess(\"good afternoon,    can you please terminate mpn access effective tomorrow, 10/26/2022.  his last day working for bulverde is today.    james young, code compliance specialist    please let me know if you need any other information.    thank you,    claudia cardenas  development coordinator  [cropped]  30360 cougar bend  bulverde, tx 78163  p: 830.438.3612  ext. 211  ccardenas@bulverdetx.gov<mailto:ccardenas@bulverdetx.gov>      apply for a permit, pay your permit fees, track the progress, and schedule inspections all online! [created via e-mail received from: claudia cardenas <ccardenas@bulverdetx.gov>]\"))"
   ]
  },
  {
   "cell_type": "code",
   "execution_count": 8,
   "id": "5d97ce51-1bc2-4e0d-b6b9-96be0cbbbe01",
   "metadata": {},
   "outputs": [],
   "source": [
    "import openai\n",
    "openai.api_key = \"XXX\"\n",
    "\n",
    "def summarize_text(text):\n",
    "    prompt = f\"Please Identify what problem this customer is facing and summarize it into one sentance: {text}\"\n",
    "    response = openai.Completion.create(\n",
    "        engine=\"text-curie-001\",\n",
    "        prompt=prompt,\n",
    "        max_tokens=60,\n",
    "        n=1,\n",
    "        stop=None,\n",
    "        temperature=0.5,\n",
    "    )\n",
    "    summary = response.choices[0].text.strip()\n",
    "    return summary\n"
   ]
  },
  {
   "cell_type": "code",
   "execution_count": 9,
   "id": "4bb3ec14-c317-4327-8c41-9a02b2ed6715",
   "metadata": {},
   "outputs": [
    {
     "name": "stdout",
     "output_type": "stream",
     "text": [
      "The customer is facing the problem of having two different accounts set up for Right Now Roofing LLC.\n"
     ]
    }
   ],
   "source": [
    "print(summarize_text(\"mygovernmentonline.org  new contact request  time sent: 10/24/2022 11:59:09 pm  name: james roberts  e-mail: info@rnroof.com  phone: 9183137663  subject: right now roofing llc  message:  it has come to my attention that we might have two different accounts set up for right now roofing llc. how could i get this checked? and if we do somehow have two accounts, how would i get them merged into one? [created via e-mail received from: no-reply@mygovernmentonline.org]\"))"
   ]
  },
  {
   "cell_type": "code",
   "execution_count": 10,
   "id": "a913ffb1-8589-4f23-b60b-ba7479970cad",
   "metadata": {},
   "outputs": [
    {
     "name": "stderr",
     "output_type": "stream",
     "text": [
      "C:\\Users\\gamer\\anaconda3\\envs\\BERTopic_DeepLearning\\lib\\site-packages\\gradio\\inputs.py:27: UserWarning: Usage of gradio.inputs is deprecated, and will not be supported in the future, please import your component from gradio.components\n",
      "  warnings.warn(\n",
      "C:\\Users\\gamer\\anaconda3\\envs\\BERTopic_DeepLearning\\lib\\site-packages\\gradio\\deprecation.py:40: UserWarning: `optional` parameter is deprecated, and it has no effect\n",
      "  warnings.warn(value)\n",
      "C:\\Users\\gamer\\anaconda3\\envs\\BERTopic_DeepLearning\\lib\\site-packages\\gradio\\deprecation.py:40: UserWarning: `numeric` parameter is deprecated, and it has no effect\n",
      "  warnings.warn(value)\n"
     ]
    },
    {
     "name": "stdout",
     "output_type": "stream",
     "text": [
      "Running on local URL:  http://127.0.0.1:7860\n",
      "Running on public URL: https://deff2458074ce2c8d6.gradio.live\n",
      "\n",
      "This share link expires in 72 hours. For free permanent hosting and GPU upgrades (NEW!), check out Spaces: https://huggingface.co/spaces\n"
     ]
    },
    {
     "data": {
      "text/html": [
       "<div><iframe src=\"https://deff2458074ce2c8d6.gradio.live\" width=\"100%\" height=\"500\" allow=\"autoplay; camera; microphone; clipboard-read; clipboard-write;\" frameborder=\"0\" allowfullscreen></iframe></div>"
      ],
      "text/plain": [
       "<IPython.core.display.HTML object>"
      ]
     },
     "metadata": {},
     "output_type": "display_data"
    },
    {
     "data": {
      "text/plain": []
     },
     "execution_count": 10,
     "metadata": {},
     "output_type": "execute_result"
    }
   ],
   "source": [
    "def identify_problem_topic(customer_message):\n",
    "    msg = preprocess(customer_message)\n",
    "    # replace the return statement with your code\n",
    "    answer = summarize_text(msg)\n",
    "    return answer  # example output\n",
    "    \n",
    "iface = gr.Interface(fn=identify_problem_topic, \n",
    "                     inputs=gr.inputs.Textbox(placeholder=\"Enter here\",label=\"Enter customer message:\"),\n",
    "                     outputs=\"text\",\n",
    "                     title=\"Enter a customer message and identify the problem\")\n",
    "\n",
    "iface.launch(share = True)"
   ]
  }
 ],
 "metadata": {
  "kernelspec": {
   "display_name": "Python 3 (ipykernel)",
   "language": "python",
   "name": "python3"
  },
  "language_info": {
   "codemirror_mode": {
    "name": "ipython",
    "version": 3
   },
   "file_extension": ".py",
   "mimetype": "text/x-python",
   "name": "python",
   "nbconvert_exporter": "python",
   "pygments_lexer": "ipython3",
   "version": "3.9.16"
  }
 },
 "nbformat": 4,
 "nbformat_minor": 5
}
